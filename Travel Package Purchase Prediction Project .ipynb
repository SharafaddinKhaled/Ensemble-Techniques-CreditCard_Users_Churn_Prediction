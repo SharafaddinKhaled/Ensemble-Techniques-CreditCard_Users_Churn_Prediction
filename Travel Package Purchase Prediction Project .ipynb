{
 "cells": [
  {
   "cell_type": "markdown",
   "metadata": {},
   "source": [
    "## 1. Load all libraries:"
   ]
  },
  {
   "cell_type": "code",
   "execution_count": 1,
   "metadata": {},
   "outputs": [],
   "source": [
    "from IPython.core.interactiveshell import InteractiveShell\n",
    "InteractiveShell.ast_node_interactivity = \"all\"\n",
    "\n",
    "import warnings\n",
    "warnings.filterwarnings('ignore')\n",
    "\n",
    "import pandas as pd\n",
    "import matplotlib.pyplot as plt\n",
    "import seaborn as sns\n",
    "import numpy as np\n",
    "from sklearn import preprocessing\n",
    "from sklearn.model_selection import train_test_split\n",
    "from sklearn import metrics\n",
    "from IPython.display import Image\n",
    "from sklearn.tree import DecisionTreeClassifier\n",
    "from sklearn.model_selection import GridSearchCV\n",
    "from sklearn.ensemble import RandomForestClassifier, AdaBoostClassifier, GradientBoostingClassifier, BaggingClassifier\n",
    "from os import system \n",
    "# from sklearn.preprocessing import Imputer\n",
    "import xgboost as xgb"
   ]
  },
  {
   "cell_type": "markdown",
   "metadata": {},
   "source": [
    "## 2. Load the data"
   ]
  },
  {
   "cell_type": "code",
   "execution_count": 2,
   "metadata": {},
   "outputs": [
    {
     "data": {
      "text/html": [
       "<div>\n",
       "<style scoped>\n",
       "    .dataframe tbody tr th:only-of-type {\n",
       "        vertical-align: middle;\n",
       "    }\n",
       "\n",
       "    .dataframe tbody tr th {\n",
       "        vertical-align: top;\n",
       "    }\n",
       "\n",
       "    .dataframe thead th {\n",
       "        text-align: right;\n",
       "    }\n",
       "</style>\n",
       "<table border=\"1\" class=\"dataframe\">\n",
       "  <thead>\n",
       "    <tr style=\"text-align: right;\">\n",
       "      <th></th>\n",
       "      <th>CustomerID</th>\n",
       "      <th>ProdTaken</th>\n",
       "      <th>Age</th>\n",
       "      <th>TypeofContact</th>\n",
       "      <th>CityTier</th>\n",
       "      <th>DurationOfPitch</th>\n",
       "      <th>Occupation</th>\n",
       "      <th>Gender</th>\n",
       "      <th>NumberOfPersonVisited</th>\n",
       "      <th>NumberOfFollowups</th>\n",
       "      <th>ProductPitched</th>\n",
       "      <th>PreferredPropertyStar</th>\n",
       "      <th>MaritalStatus</th>\n",
       "      <th>NumberOfTrips</th>\n",
       "      <th>Passport</th>\n",
       "      <th>PitchSatisfactionScore</th>\n",
       "      <th>OwnCar</th>\n",
       "      <th>NumberOfChildrenVisited</th>\n",
       "      <th>Designation</th>\n",
       "      <th>MonthlyIncome</th>\n",
       "    </tr>\n",
       "  </thead>\n",
       "  <tbody>\n",
       "    <tr>\n",
       "      <th>0</th>\n",
       "      <td>200000</td>\n",
       "      <td>1</td>\n",
       "      <td>41.0</td>\n",
       "      <td>Self Enquiry</td>\n",
       "      <td>3</td>\n",
       "      <td>6.0</td>\n",
       "      <td>Salaried</td>\n",
       "      <td>Female</td>\n",
       "      <td>3</td>\n",
       "      <td>3.0</td>\n",
       "      <td>Deluxe</td>\n",
       "      <td>3.0</td>\n",
       "      <td>Single</td>\n",
       "      <td>1.0</td>\n",
       "      <td>1</td>\n",
       "      <td>2</td>\n",
       "      <td>1</td>\n",
       "      <td>0.0</td>\n",
       "      <td>Manager</td>\n",
       "      <td>20993.0</td>\n",
       "    </tr>\n",
       "    <tr>\n",
       "      <th>1</th>\n",
       "      <td>200001</td>\n",
       "      <td>0</td>\n",
       "      <td>49.0</td>\n",
       "      <td>Company Invited</td>\n",
       "      <td>1</td>\n",
       "      <td>14.0</td>\n",
       "      <td>Salaried</td>\n",
       "      <td>Male</td>\n",
       "      <td>3</td>\n",
       "      <td>4.0</td>\n",
       "      <td>Deluxe</td>\n",
       "      <td>4.0</td>\n",
       "      <td>Divorced</td>\n",
       "      <td>2.0</td>\n",
       "      <td>0</td>\n",
       "      <td>3</td>\n",
       "      <td>1</td>\n",
       "      <td>2.0</td>\n",
       "      <td>Manager</td>\n",
       "      <td>20130.0</td>\n",
       "    </tr>\n",
       "    <tr>\n",
       "      <th>2</th>\n",
       "      <td>200002</td>\n",
       "      <td>1</td>\n",
       "      <td>37.0</td>\n",
       "      <td>Self Enquiry</td>\n",
       "      <td>1</td>\n",
       "      <td>8.0</td>\n",
       "      <td>Free Lancer</td>\n",
       "      <td>Male</td>\n",
       "      <td>3</td>\n",
       "      <td>4.0</td>\n",
       "      <td>Basic</td>\n",
       "      <td>3.0</td>\n",
       "      <td>Single</td>\n",
       "      <td>7.0</td>\n",
       "      <td>1</td>\n",
       "      <td>3</td>\n",
       "      <td>0</td>\n",
       "      <td>0.0</td>\n",
       "      <td>Executive</td>\n",
       "      <td>17090.0</td>\n",
       "    </tr>\n",
       "    <tr>\n",
       "      <th>3</th>\n",
       "      <td>200003</td>\n",
       "      <td>0</td>\n",
       "      <td>33.0</td>\n",
       "      <td>Company Invited</td>\n",
       "      <td>1</td>\n",
       "      <td>9.0</td>\n",
       "      <td>Salaried</td>\n",
       "      <td>Female</td>\n",
       "      <td>2</td>\n",
       "      <td>3.0</td>\n",
       "      <td>Basic</td>\n",
       "      <td>3.0</td>\n",
       "      <td>Divorced</td>\n",
       "      <td>2.0</td>\n",
       "      <td>1</td>\n",
       "      <td>5</td>\n",
       "      <td>1</td>\n",
       "      <td>1.0</td>\n",
       "      <td>Executive</td>\n",
       "      <td>17909.0</td>\n",
       "    </tr>\n",
       "    <tr>\n",
       "      <th>4</th>\n",
       "      <td>200004</td>\n",
       "      <td>0</td>\n",
       "      <td>NaN</td>\n",
       "      <td>Self Enquiry</td>\n",
       "      <td>1</td>\n",
       "      <td>8.0</td>\n",
       "      <td>Small Business</td>\n",
       "      <td>Male</td>\n",
       "      <td>2</td>\n",
       "      <td>3.0</td>\n",
       "      <td>Basic</td>\n",
       "      <td>4.0</td>\n",
       "      <td>Divorced</td>\n",
       "      <td>1.0</td>\n",
       "      <td>0</td>\n",
       "      <td>5</td>\n",
       "      <td>1</td>\n",
       "      <td>0.0</td>\n",
       "      <td>Executive</td>\n",
       "      <td>18468.0</td>\n",
       "    </tr>\n",
       "  </tbody>\n",
       "</table>\n",
       "</div>"
      ],
      "text/plain": [
       "   CustomerID  ProdTaken   Age    TypeofContact  CityTier  DurationOfPitch  \\\n",
       "0      200000          1  41.0     Self Enquiry         3              6.0   \n",
       "1      200001          0  49.0  Company Invited         1             14.0   \n",
       "2      200002          1  37.0     Self Enquiry         1              8.0   \n",
       "3      200003          0  33.0  Company Invited         1              9.0   \n",
       "4      200004          0   NaN     Self Enquiry         1              8.0   \n",
       "\n",
       "       Occupation  Gender  NumberOfPersonVisited  NumberOfFollowups  \\\n",
       "0        Salaried  Female                      3                3.0   \n",
       "1        Salaried    Male                      3                4.0   \n",
       "2     Free Lancer    Male                      3                4.0   \n",
       "3        Salaried  Female                      2                3.0   \n",
       "4  Small Business    Male                      2                3.0   \n",
       "\n",
       "  ProductPitched  PreferredPropertyStar MaritalStatus  NumberOfTrips  \\\n",
       "0         Deluxe                    3.0        Single            1.0   \n",
       "1         Deluxe                    4.0      Divorced            2.0   \n",
       "2          Basic                    3.0        Single            7.0   \n",
       "3          Basic                    3.0      Divorced            2.0   \n",
       "4          Basic                    4.0      Divorced            1.0   \n",
       "\n",
       "   Passport  PitchSatisfactionScore  OwnCar  NumberOfChildrenVisited  \\\n",
       "0         1                       2       1                      0.0   \n",
       "1         0                       3       1                      2.0   \n",
       "2         1                       3       0                      0.0   \n",
       "3         1                       5       1                      1.0   \n",
       "4         0                       5       1                      0.0   \n",
       "\n",
       "  Designation  MonthlyIncome  \n",
       "0     Manager        20993.0  \n",
       "1     Manager        20130.0  \n",
       "2   Executive        17090.0  \n",
       "3   Executive        17909.0  \n",
       "4   Executive        18468.0  "
      ]
     },
     "execution_count": 2,
     "metadata": {},
     "output_type": "execute_result"
    },
    {
     "name": "stdout",
     "output_type": "stream",
     "text": [
      "<class 'pandas.core.frame.DataFrame'>\n",
      "RangeIndex: 4888 entries, 0 to 4887\n",
      "Data columns (total 20 columns):\n",
      " #   Column                   Non-Null Count  Dtype  \n",
      "---  ------                   --------------  -----  \n",
      " 0   CustomerID               4888 non-null   int64  \n",
      " 1   ProdTaken                4888 non-null   int64  \n",
      " 2   Age                      4662 non-null   float64\n",
      " 3   TypeofContact            4863 non-null   object \n",
      " 4   CityTier                 4888 non-null   int64  \n",
      " 5   DurationOfPitch          4637 non-null   float64\n",
      " 6   Occupation               4888 non-null   object \n",
      " 7   Gender                   4888 non-null   object \n",
      " 8   NumberOfPersonVisited    4888 non-null   int64  \n",
      " 9   NumberOfFollowups        4843 non-null   float64\n",
      " 10  ProductPitched           4888 non-null   object \n",
      " 11  PreferredPropertyStar    4862 non-null   float64\n",
      " 12  MaritalStatus            4888 non-null   object \n",
      " 13  NumberOfTrips            4748 non-null   float64\n",
      " 14  Passport                 4888 non-null   int64  \n",
      " 15  PitchSatisfactionScore   4888 non-null   int64  \n",
      " 16  OwnCar                   4888 non-null   int64  \n",
      " 17  NumberOfChildrenVisited  4822 non-null   float64\n",
      " 18  Designation              4888 non-null   object \n",
      " 19  MonthlyIncome            4655 non-null   float64\n",
      "dtypes: float64(7), int64(7), object(6)\n",
      "memory usage: 763.9+ KB\n"
     ]
    },
    {
     "data": {
      "text/plain": [
       "(4888, 20)"
      ]
     },
     "execution_count": 2,
     "metadata": {},
     "output_type": "execute_result"
    }
   ],
   "source": [
    "tourism = pd.read_csv('/Users/khaledsharafaddin/Documents/Univ_Austin_Texas ML_AI/DataSets/Tourism.csv')\n",
    "tourism.head()\n",
    "tourism.info()\n",
    "tourism.shape  # (4888, 20)"
   ]
  },
  {
   "cell_type": "code",
   "execution_count": 3,
   "metadata": {},
   "outputs": [
    {
     "data": {
      "text/html": [
       "<div>\n",
       "<style scoped>\n",
       "    .dataframe tbody tr th:only-of-type {\n",
       "        vertical-align: middle;\n",
       "    }\n",
       "\n",
       "    .dataframe tbody tr th {\n",
       "        vertical-align: top;\n",
       "    }\n",
       "\n",
       "    .dataframe thead th {\n",
       "        text-align: right;\n",
       "    }\n",
       "</style>\n",
       "<table border=\"1\" class=\"dataframe\">\n",
       "  <thead>\n",
       "    <tr style=\"text-align: right;\">\n",
       "      <th></th>\n",
       "      <th>CustomerID</th>\n",
       "      <th>ProdTaken</th>\n",
       "      <th>Age</th>\n",
       "      <th>TypeofContact</th>\n",
       "      <th>CityTier</th>\n",
       "      <th>DurationOfPitch</th>\n",
       "      <th>Occupation</th>\n",
       "      <th>Gender</th>\n",
       "      <th>NumberOfPersonVisited</th>\n",
       "      <th>NumberOfFollowups</th>\n",
       "      <th>ProductPitched</th>\n",
       "      <th>PreferredPropertyStar</th>\n",
       "      <th>MaritalStatus</th>\n",
       "      <th>NumberOfTrips</th>\n",
       "      <th>Passport</th>\n",
       "      <th>PitchSatisfactionScore</th>\n",
       "      <th>OwnCar</th>\n",
       "      <th>NumberOfChildrenVisited</th>\n",
       "      <th>Designation</th>\n",
       "      <th>MonthlyIncome</th>\n",
       "    </tr>\n",
       "  </thead>\n",
       "  <tbody>\n",
       "    <tr>\n",
       "      <th>0</th>\n",
       "      <td>200000</td>\n",
       "      <td>1</td>\n",
       "      <td>41.0</td>\n",
       "      <td>Self Enquiry</td>\n",
       "      <td>3</td>\n",
       "      <td>6.0</td>\n",
       "      <td>Salaried</td>\n",
       "      <td>Female</td>\n",
       "      <td>3</td>\n",
       "      <td>3.0</td>\n",
       "      <td>Deluxe</td>\n",
       "      <td>3.0</td>\n",
       "      <td>Single</td>\n",
       "      <td>1.0</td>\n",
       "      <td>1</td>\n",
       "      <td>2</td>\n",
       "      <td>1</td>\n",
       "      <td>0.0</td>\n",
       "      <td>Manager</td>\n",
       "      <td>20993.0</td>\n",
       "    </tr>\n",
       "    <tr>\n",
       "      <th>1</th>\n",
       "      <td>200001</td>\n",
       "      <td>0</td>\n",
       "      <td>49.0</td>\n",
       "      <td>Company Invited</td>\n",
       "      <td>1</td>\n",
       "      <td>14.0</td>\n",
       "      <td>Salaried</td>\n",
       "      <td>Male</td>\n",
       "      <td>3</td>\n",
       "      <td>4.0</td>\n",
       "      <td>Deluxe</td>\n",
       "      <td>4.0</td>\n",
       "      <td>Divorced</td>\n",
       "      <td>2.0</td>\n",
       "      <td>0</td>\n",
       "      <td>3</td>\n",
       "      <td>1</td>\n",
       "      <td>2.0</td>\n",
       "      <td>Manager</td>\n",
       "      <td>20130.0</td>\n",
       "    </tr>\n",
       "    <tr>\n",
       "      <th>2</th>\n",
       "      <td>200002</td>\n",
       "      <td>1</td>\n",
       "      <td>37.0</td>\n",
       "      <td>Self Enquiry</td>\n",
       "      <td>1</td>\n",
       "      <td>8.0</td>\n",
       "      <td>Free Lancer</td>\n",
       "      <td>Male</td>\n",
       "      <td>3</td>\n",
       "      <td>4.0</td>\n",
       "      <td>Basic</td>\n",
       "      <td>3.0</td>\n",
       "      <td>Single</td>\n",
       "      <td>7.0</td>\n",
       "      <td>1</td>\n",
       "      <td>3</td>\n",
       "      <td>0</td>\n",
       "      <td>0.0</td>\n",
       "      <td>Executive</td>\n",
       "      <td>17090.0</td>\n",
       "    </tr>\n",
       "    <tr>\n",
       "      <th>3</th>\n",
       "      <td>200003</td>\n",
       "      <td>0</td>\n",
       "      <td>33.0</td>\n",
       "      <td>Company Invited</td>\n",
       "      <td>1</td>\n",
       "      <td>9.0</td>\n",
       "      <td>Salaried</td>\n",
       "      <td>Female</td>\n",
       "      <td>2</td>\n",
       "      <td>3.0</td>\n",
       "      <td>Basic</td>\n",
       "      <td>3.0</td>\n",
       "      <td>Divorced</td>\n",
       "      <td>2.0</td>\n",
       "      <td>1</td>\n",
       "      <td>5</td>\n",
       "      <td>1</td>\n",
       "      <td>1.0</td>\n",
       "      <td>Executive</td>\n",
       "      <td>17909.0</td>\n",
       "    </tr>\n",
       "    <tr>\n",
       "      <th>4</th>\n",
       "      <td>200004</td>\n",
       "      <td>0</td>\n",
       "      <td>NaN</td>\n",
       "      <td>Self Enquiry</td>\n",
       "      <td>1</td>\n",
       "      <td>8.0</td>\n",
       "      <td>Small Business</td>\n",
       "      <td>Male</td>\n",
       "      <td>2</td>\n",
       "      <td>3.0</td>\n",
       "      <td>Basic</td>\n",
       "      <td>4.0</td>\n",
       "      <td>Divorced</td>\n",
       "      <td>1.0</td>\n",
       "      <td>0</td>\n",
       "      <td>5</td>\n",
       "      <td>1</td>\n",
       "      <td>0.0</td>\n",
       "      <td>Executive</td>\n",
       "      <td>18468.0</td>\n",
       "    </tr>\n",
       "  </tbody>\n",
       "</table>\n",
       "</div>"
      ],
      "text/plain": [
       "   CustomerID  ProdTaken   Age    TypeofContact  CityTier  DurationOfPitch  \\\n",
       "0      200000          1  41.0     Self Enquiry         3              6.0   \n",
       "1      200001          0  49.0  Company Invited         1             14.0   \n",
       "2      200002          1  37.0     Self Enquiry         1              8.0   \n",
       "3      200003          0  33.0  Company Invited         1              9.0   \n",
       "4      200004          0   NaN     Self Enquiry         1              8.0   \n",
       "\n",
       "       Occupation  Gender  NumberOfPersonVisited  NumberOfFollowups  \\\n",
       "0        Salaried  Female                      3                3.0   \n",
       "1        Salaried    Male                      3                4.0   \n",
       "2     Free Lancer    Male                      3                4.0   \n",
       "3        Salaried  Female                      2                3.0   \n",
       "4  Small Business    Male                      2                3.0   \n",
       "\n",
       "  ProductPitched  PreferredPropertyStar MaritalStatus  NumberOfTrips  \\\n",
       "0         Deluxe                    3.0        Single            1.0   \n",
       "1         Deluxe                    4.0      Divorced            2.0   \n",
       "2          Basic                    3.0        Single            7.0   \n",
       "3          Basic                    3.0      Divorced            2.0   \n",
       "4          Basic                    4.0      Divorced            1.0   \n",
       "\n",
       "   Passport  PitchSatisfactionScore  OwnCar  NumberOfChildrenVisited  \\\n",
       "0         1                       2       1                      0.0   \n",
       "1         0                       3       1                      2.0   \n",
       "2         1                       3       0                      0.0   \n",
       "3         1                       5       1                      1.0   \n",
       "4         0                       5       1                      0.0   \n",
       "\n",
       "  Designation  MonthlyIncome  \n",
       "0     Manager        20993.0  \n",
       "1     Manager        20130.0  \n",
       "2   Executive        17090.0  \n",
       "3   Executive        17909.0  \n",
       "4   Executive        18468.0  "
      ]
     },
     "execution_count": 3,
     "metadata": {},
     "output_type": "execute_result"
    }
   ],
   "source": [
    "tourism.head()"
   ]
  },
  {
   "cell_type": "markdown",
   "metadata": {},
   "source": [
    "## 3. Perform an Exploratory Data Analysis\n"
   ]
  },
  {
   "cell_type": "code",
   "execution_count": 4,
   "metadata": {
    "scrolled": true
   },
   "outputs": [
    {
     "data": {
      "text/plain": [
       "Basic           37.684124\n",
       "Deluxe          35.433715\n",
       "Standard        15.180033\n",
       "Super Deluxe     6.996727\n",
       "King             4.705401\n",
       "Name: ProductPitched, dtype: float64"
      ]
     },
     "execution_count": 4,
     "metadata": {},
     "output_type": "execute_result"
    },
    {
     "data": {
      "text/plain": [
       "Male       59.656301\n",
       "Female     37.172668\n",
       "Fe Male     3.171031\n",
       "Name: Gender, dtype: float64"
      ]
     },
     "execution_count": 4,
     "metadata": {},
     "output_type": "execute_result"
    },
    {
     "data": {
      "text/plain": [
       "<AxesSubplot:xlabel='Gender', ylabel='count'>"
      ]
     },
     "execution_count": 4,
     "metadata": {},
     "output_type": "execute_result"
    },
    {
     "data": {
      "text/plain": [
       "array([[<AxesSubplot:title={'center':'Age'}>,\n",
       "        <AxesSubplot:title={'center':'DurationOfPitch'}>],\n",
       "       [<AxesSubplot:title={'center':'NumberOfPersonVisited'}>,\n",
       "        <AxesSubplot:title={'center':'PitchSatisfactionScore'}>],\n",
       "       [<AxesSubplot:title={'center':'MonthlyIncome'}>, <AxesSubplot:>],\n",
       "       [<AxesSubplot:>, <AxesSubplot:>],\n",
       "       [<AxesSubplot:>, <AxesSubplot:>],\n",
       "       [<AxesSubplot:>, <AxesSubplot:>],\n",
       "       [<AxesSubplot:>, <AxesSubplot:>],\n",
       "       [<AxesSubplot:>, <AxesSubplot:>],\n",
       "       [<AxesSubplot:>, <AxesSubplot:>],\n",
       "       [<AxesSubplot:>, <AxesSubplot:>],\n",
       "       [<AxesSubplot:>, <AxesSubplot:>],\n",
       "       [<AxesSubplot:>, <AxesSubplot:>],\n",
       "       [<AxesSubplot:>, <AxesSubplot:>],\n",
       "       [<AxesSubplot:>, <AxesSubplot:>]], dtype=object)"
      ]
     },
     "execution_count": 4,
     "metadata": {},
     "output_type": "execute_result"
    },
    {
     "data": {
      "text/html": [
       "<div>\n",
       "<style scoped>\n",
       "    .dataframe tbody tr th:only-of-type {\n",
       "        vertical-align: middle;\n",
       "    }\n",
       "\n",
       "    .dataframe tbody tr th {\n",
       "        vertical-align: top;\n",
       "    }\n",
       "\n",
       "    .dataframe thead th {\n",
       "        text-align: right;\n",
       "    }\n",
       "</style>\n",
       "<table border=\"1\" class=\"dataframe\">\n",
       "  <thead>\n",
       "    <tr style=\"text-align: right;\">\n",
       "      <th></th>\n",
       "      <th>CustomerID</th>\n",
       "      <th>ProdTaken</th>\n",
       "      <th>Age</th>\n",
       "      <th>CityTier</th>\n",
       "      <th>DurationOfPitch</th>\n",
       "      <th>NumberOfPersonVisited</th>\n",
       "      <th>NumberOfFollowups</th>\n",
       "      <th>PreferredPropertyStar</th>\n",
       "      <th>NumberOfTrips</th>\n",
       "      <th>Passport</th>\n",
       "      <th>PitchSatisfactionScore</th>\n",
       "      <th>OwnCar</th>\n",
       "      <th>NumberOfChildrenVisited</th>\n",
       "      <th>MonthlyIncome</th>\n",
       "    </tr>\n",
       "  </thead>\n",
       "  <tbody>\n",
       "    <tr>\n",
       "      <th>CustomerID</th>\n",
       "      <td>1.000000</td>\n",
       "      <td>0.056506</td>\n",
       "      <td>0.032127</td>\n",
       "      <td>0.012975</td>\n",
       "      <td>0.064298</td>\n",
       "      <td>0.604013</td>\n",
       "      <td>0.427539</td>\n",
       "      <td>0.010553</td>\n",
       "      <td>0.224848</td>\n",
       "      <td>0.007974</td>\n",
       "      <td>-0.035847</td>\n",
       "      <td>0.003805</td>\n",
       "      <td>0.511763</td>\n",
       "      <td>0.276833</td>\n",
       "    </tr>\n",
       "    <tr>\n",
       "      <th>ProdTaken</th>\n",
       "      <td>0.056506</td>\n",
       "      <td>1.000000</td>\n",
       "      <td>-0.147254</td>\n",
       "      <td>0.086852</td>\n",
       "      <td>0.078257</td>\n",
       "      <td>0.009627</td>\n",
       "      <td>0.112171</td>\n",
       "      <td>0.099577</td>\n",
       "      <td>0.018898</td>\n",
       "      <td>0.260844</td>\n",
       "      <td>0.051394</td>\n",
       "      <td>-0.011508</td>\n",
       "      <td>0.007421</td>\n",
       "      <td>-0.130585</td>\n",
       "    </tr>\n",
       "    <tr>\n",
       "      <th>Age</th>\n",
       "      <td>0.032127</td>\n",
       "      <td>-0.147254</td>\n",
       "      <td>1.000000</td>\n",
       "      <td>-0.015625</td>\n",
       "      <td>-0.012063</td>\n",
       "      <td>0.011621</td>\n",
       "      <td>-0.002577</td>\n",
       "      <td>-0.010474</td>\n",
       "      <td>0.184905</td>\n",
       "      <td>0.033399</td>\n",
       "      <td>0.018510</td>\n",
       "      <td>0.048654</td>\n",
       "      <td>0.007370</td>\n",
       "      <td>0.464869</td>\n",
       "    </tr>\n",
       "    <tr>\n",
       "      <th>CityTier</th>\n",
       "      <td>0.012975</td>\n",
       "      <td>0.086852</td>\n",
       "      <td>-0.015625</td>\n",
       "      <td>1.000000</td>\n",
       "      <td>0.022703</td>\n",
       "      <td>-0.001671</td>\n",
       "      <td>0.023652</td>\n",
       "      <td>-0.009164</td>\n",
       "      <td>-0.029709</td>\n",
       "      <td>0.001793</td>\n",
       "      <td>-0.042160</td>\n",
       "      <td>0.003817</td>\n",
       "      <td>0.000672</td>\n",
       "      <td>0.051817</td>\n",
       "    </tr>\n",
       "    <tr>\n",
       "      <th>DurationOfPitch</th>\n",
       "      <td>0.064298</td>\n",
       "      <td>0.078257</td>\n",
       "      <td>-0.012063</td>\n",
       "      <td>0.022703</td>\n",
       "      <td>1.000000</td>\n",
       "      <td>0.065141</td>\n",
       "      <td>0.009434</td>\n",
       "      <td>-0.006637</td>\n",
       "      <td>0.009715</td>\n",
       "      <td>0.033034</td>\n",
       "      <td>-0.002880</td>\n",
       "      <td>-0.001626</td>\n",
       "      <td>0.031408</td>\n",
       "      <td>-0.006252</td>\n",
       "    </tr>\n",
       "    <tr>\n",
       "      <th>NumberOfPersonVisited</th>\n",
       "      <td>0.604013</td>\n",
       "      <td>0.009627</td>\n",
       "      <td>0.011621</td>\n",
       "      <td>-0.001671</td>\n",
       "      <td>0.065141</td>\n",
       "      <td>1.000000</td>\n",
       "      <td>0.328569</td>\n",
       "      <td>0.033867</td>\n",
       "      <td>0.195223</td>\n",
       "      <td>0.011177</td>\n",
       "      <td>-0.019581</td>\n",
       "      <td>0.010362</td>\n",
       "      <td>0.610621</td>\n",
       "      <td>0.195134</td>\n",
       "    </tr>\n",
       "    <tr>\n",
       "      <th>NumberOfFollowups</th>\n",
       "      <td>0.427539</td>\n",
       "      <td>0.112171</td>\n",
       "      <td>-0.002577</td>\n",
       "      <td>0.023652</td>\n",
       "      <td>0.009434</td>\n",
       "      <td>0.328569</td>\n",
       "      <td>1.000000</td>\n",
       "      <td>-0.024176</td>\n",
       "      <td>0.139517</td>\n",
       "      <td>0.004970</td>\n",
       "      <td>0.004054</td>\n",
       "      <td>0.012112</td>\n",
       "      <td>0.286425</td>\n",
       "      <td>0.176503</td>\n",
       "    </tr>\n",
       "    <tr>\n",
       "      <th>PreferredPropertyStar</th>\n",
       "      <td>0.010553</td>\n",
       "      <td>0.099577</td>\n",
       "      <td>-0.010474</td>\n",
       "      <td>-0.009164</td>\n",
       "      <td>-0.006637</td>\n",
       "      <td>0.033867</td>\n",
       "      <td>-0.024176</td>\n",
       "      <td>1.000000</td>\n",
       "      <td>0.012115</td>\n",
       "      <td>0.001040</td>\n",
       "      <td>-0.022701</td>\n",
       "      <td>0.015742</td>\n",
       "      <td>0.035798</td>\n",
       "      <td>0.014289</td>\n",
       "    </tr>\n",
       "    <tr>\n",
       "      <th>NumberOfTrips</th>\n",
       "      <td>0.224848</td>\n",
       "      <td>0.018898</td>\n",
       "      <td>0.184905</td>\n",
       "      <td>-0.029709</td>\n",
       "      <td>0.009715</td>\n",
       "      <td>0.195223</td>\n",
       "      <td>0.139517</td>\n",
       "      <td>0.012115</td>\n",
       "      <td>1.000000</td>\n",
       "      <td>0.012949</td>\n",
       "      <td>-0.004378</td>\n",
       "      <td>-0.011825</td>\n",
       "      <td>0.168795</td>\n",
       "      <td>0.139105</td>\n",
       "    </tr>\n",
       "    <tr>\n",
       "      <th>Passport</th>\n",
       "      <td>0.007974</td>\n",
       "      <td>0.260844</td>\n",
       "      <td>0.033399</td>\n",
       "      <td>0.001793</td>\n",
       "      <td>0.033034</td>\n",
       "      <td>0.011177</td>\n",
       "      <td>0.004970</td>\n",
       "      <td>0.001040</td>\n",
       "      <td>0.012949</td>\n",
       "      <td>1.000000</td>\n",
       "      <td>0.002926</td>\n",
       "      <td>-0.022330</td>\n",
       "      <td>0.020264</td>\n",
       "      <td>0.002545</td>\n",
       "    </tr>\n",
       "    <tr>\n",
       "      <th>PitchSatisfactionScore</th>\n",
       "      <td>-0.035847</td>\n",
       "      <td>0.051394</td>\n",
       "      <td>0.018510</td>\n",
       "      <td>-0.042160</td>\n",
       "      <td>-0.002880</td>\n",
       "      <td>-0.019581</td>\n",
       "      <td>0.004054</td>\n",
       "      <td>-0.022701</td>\n",
       "      <td>-0.004378</td>\n",
       "      <td>0.002926</td>\n",
       "      <td>1.000000</td>\n",
       "      <td>0.068850</td>\n",
       "      <td>0.000878</td>\n",
       "      <td>0.030421</td>\n",
       "    </tr>\n",
       "    <tr>\n",
       "      <th>OwnCar</th>\n",
       "      <td>0.003805</td>\n",
       "      <td>-0.011508</td>\n",
       "      <td>0.048654</td>\n",
       "      <td>0.003817</td>\n",
       "      <td>-0.001626</td>\n",
       "      <td>0.010362</td>\n",
       "      <td>0.012112</td>\n",
       "      <td>0.015742</td>\n",
       "      <td>-0.011825</td>\n",
       "      <td>-0.022330</td>\n",
       "      <td>0.068850</td>\n",
       "      <td>1.000000</td>\n",
       "      <td>0.026572</td>\n",
       "      <td>0.080262</td>\n",
       "    </tr>\n",
       "    <tr>\n",
       "      <th>NumberOfChildrenVisited</th>\n",
       "      <td>0.511763</td>\n",
       "      <td>0.007421</td>\n",
       "      <td>0.007370</td>\n",
       "      <td>0.000672</td>\n",
       "      <td>0.031408</td>\n",
       "      <td>0.610621</td>\n",
       "      <td>0.286425</td>\n",
       "      <td>0.035798</td>\n",
       "      <td>0.168795</td>\n",
       "      <td>0.020264</td>\n",
       "      <td>0.000878</td>\n",
       "      <td>0.026572</td>\n",
       "      <td>1.000000</td>\n",
       "      <td>0.201643</td>\n",
       "    </tr>\n",
       "    <tr>\n",
       "      <th>MonthlyIncome</th>\n",
       "      <td>0.276833</td>\n",
       "      <td>-0.130585</td>\n",
       "      <td>0.464869</td>\n",
       "      <td>0.051817</td>\n",
       "      <td>-0.006252</td>\n",
       "      <td>0.195134</td>\n",
       "      <td>0.176503</td>\n",
       "      <td>0.014289</td>\n",
       "      <td>0.139105</td>\n",
       "      <td>0.002545</td>\n",
       "      <td>0.030421</td>\n",
       "      <td>0.080262</td>\n",
       "      <td>0.201643</td>\n",
       "      <td>1.000000</td>\n",
       "    </tr>\n",
       "  </tbody>\n",
       "</table>\n",
       "</div>"
      ],
      "text/plain": [
       "                         CustomerID  ProdTaken       Age  CityTier  \\\n",
       "CustomerID                 1.000000   0.056506  0.032127  0.012975   \n",
       "ProdTaken                  0.056506   1.000000 -0.147254  0.086852   \n",
       "Age                        0.032127  -0.147254  1.000000 -0.015625   \n",
       "CityTier                   0.012975   0.086852 -0.015625  1.000000   \n",
       "DurationOfPitch            0.064298   0.078257 -0.012063  0.022703   \n",
       "NumberOfPersonVisited      0.604013   0.009627  0.011621 -0.001671   \n",
       "NumberOfFollowups          0.427539   0.112171 -0.002577  0.023652   \n",
       "PreferredPropertyStar      0.010553   0.099577 -0.010474 -0.009164   \n",
       "NumberOfTrips              0.224848   0.018898  0.184905 -0.029709   \n",
       "Passport                   0.007974   0.260844  0.033399  0.001793   \n",
       "PitchSatisfactionScore    -0.035847   0.051394  0.018510 -0.042160   \n",
       "OwnCar                     0.003805  -0.011508  0.048654  0.003817   \n",
       "NumberOfChildrenVisited    0.511763   0.007421  0.007370  0.000672   \n",
       "MonthlyIncome              0.276833  -0.130585  0.464869  0.051817   \n",
       "\n",
       "                         DurationOfPitch  NumberOfPersonVisited  \\\n",
       "CustomerID                      0.064298               0.604013   \n",
       "ProdTaken                       0.078257               0.009627   \n",
       "Age                            -0.012063               0.011621   \n",
       "CityTier                        0.022703              -0.001671   \n",
       "DurationOfPitch                 1.000000               0.065141   \n",
       "NumberOfPersonVisited           0.065141               1.000000   \n",
       "NumberOfFollowups               0.009434               0.328569   \n",
       "PreferredPropertyStar          -0.006637               0.033867   \n",
       "NumberOfTrips                   0.009715               0.195223   \n",
       "Passport                        0.033034               0.011177   \n",
       "PitchSatisfactionScore         -0.002880              -0.019581   \n",
       "OwnCar                         -0.001626               0.010362   \n",
       "NumberOfChildrenVisited         0.031408               0.610621   \n",
       "MonthlyIncome                  -0.006252               0.195134   \n",
       "\n",
       "                         NumberOfFollowups  PreferredPropertyStar  \\\n",
       "CustomerID                        0.427539               0.010553   \n",
       "ProdTaken                         0.112171               0.099577   \n",
       "Age                              -0.002577              -0.010474   \n",
       "CityTier                          0.023652              -0.009164   \n",
       "DurationOfPitch                   0.009434              -0.006637   \n",
       "NumberOfPersonVisited             0.328569               0.033867   \n",
       "NumberOfFollowups                 1.000000              -0.024176   \n",
       "PreferredPropertyStar            -0.024176               1.000000   \n",
       "NumberOfTrips                     0.139517               0.012115   \n",
       "Passport                          0.004970               0.001040   \n",
       "PitchSatisfactionScore            0.004054              -0.022701   \n",
       "OwnCar                            0.012112               0.015742   \n",
       "NumberOfChildrenVisited           0.286425               0.035798   \n",
       "MonthlyIncome                     0.176503               0.014289   \n",
       "\n",
       "                         NumberOfTrips  Passport  PitchSatisfactionScore  \\\n",
       "CustomerID                    0.224848  0.007974               -0.035847   \n",
       "ProdTaken                     0.018898  0.260844                0.051394   \n",
       "Age                           0.184905  0.033399                0.018510   \n",
       "CityTier                     -0.029709  0.001793               -0.042160   \n",
       "DurationOfPitch               0.009715  0.033034               -0.002880   \n",
       "NumberOfPersonVisited         0.195223  0.011177               -0.019581   \n",
       "NumberOfFollowups             0.139517  0.004970                0.004054   \n",
       "PreferredPropertyStar         0.012115  0.001040               -0.022701   \n",
       "NumberOfTrips                 1.000000  0.012949               -0.004378   \n",
       "Passport                      0.012949  1.000000                0.002926   \n",
       "PitchSatisfactionScore       -0.004378  0.002926                1.000000   \n",
       "OwnCar                       -0.011825 -0.022330                0.068850   \n",
       "NumberOfChildrenVisited       0.168795  0.020264                0.000878   \n",
       "MonthlyIncome                 0.139105  0.002545                0.030421   \n",
       "\n",
       "                           OwnCar  NumberOfChildrenVisited  MonthlyIncome  \n",
       "CustomerID               0.003805                 0.511763       0.276833  \n",
       "ProdTaken               -0.011508                 0.007421      -0.130585  \n",
       "Age                      0.048654                 0.007370       0.464869  \n",
       "CityTier                 0.003817                 0.000672       0.051817  \n",
       "DurationOfPitch         -0.001626                 0.031408      -0.006252  \n",
       "NumberOfPersonVisited    0.010362                 0.610621       0.195134  \n",
       "NumberOfFollowups        0.012112                 0.286425       0.176503  \n",
       "PreferredPropertyStar    0.015742                 0.035798       0.014289  \n",
       "NumberOfTrips           -0.011825                 0.168795       0.139105  \n",
       "Passport                -0.022330                 0.020264       0.002545  \n",
       "PitchSatisfactionScore   0.068850                 0.000878       0.030421  \n",
       "OwnCar                   1.000000                 0.026572       0.080262  \n",
       "NumberOfChildrenVisited  0.026572                 1.000000       0.201643  \n",
       "MonthlyIncome            0.080262                 0.201643       1.000000  "
      ]
     },
     "execution_count": 4,
     "metadata": {},
     "output_type": "execute_result"
    },
    {
     "data": {
      "text/plain": [
       "0    81.178396\n",
       "1    18.821604\n",
       "Name: ProdTaken, dtype: float64"
      ]
     },
     "execution_count": 4,
     "metadata": {},
     "output_type": "execute_result"
    },
    {
     "data": {
      "text/plain": [
       "<seaborn.axisgrid.FacetGrid at 0x7f9d18bef6d0>"
      ]
     },
     "execution_count": 4,
     "metadata": {},
     "output_type": "execute_result"
    },
    {
     "data": {
      "text/plain": [
       "<AxesSubplot:xlabel='Gender', ylabel='Age'>"
      ]
     },
     "execution_count": 4,
     "metadata": {},
     "output_type": "execute_result"
    },
    {
     "data": {
      "text/plain": [
       "0    70.908347\n",
       "1    29.091653\n",
       "Name: Passport, dtype: float64"
      ]
     },
     "execution_count": 4,
     "metadata": {},
     "output_type": "execute_result"
    },
    {
     "data": {
      "text/plain": [
       "Text(0.5, 0.98, 'Designation by Gender')"
      ]
     },
     "execution_count": 4,
     "metadata": {},
     "output_type": "execute_result"
    },
    {
     "data": {
      "image/png": "[encoded data removed]",
      "text/plain": [
       "<Figure size 432x288 with 1 Axes>"
      ]
     },
     "metadata": {
      "needs_background": "light"
     },
     "output_type": "display_data"
    },
    {
     "data": {
      "image/png": "[encoded data removed]",
      "text/plain": [
       "<Figure size 864x2160 with 28 Axes>"
      ]
     },
     "metadata": {
      "needs_background": "light"
     },
     "output_type": "display_data"
    },
    {
     "data": {
      "image/png": "[encoded data removed]",
      "text/plain": [
       "<Figure size 463.125x360 with 1 Axes>"
      ]
     },
     "metadata": {
      "needs_background": "light"
     },
     "output_type": "display_data"
    },
    {
     "data": {
      "image/png": "[encoded data removed]",
      "text/plain": [
       "<Figure size 474.75x360 with 1 Axes>"
      ]
     },
     "metadata": {
      "needs_background": "light"
     },
     "output_type": "display_data"
    }
   ],
   "source": [
    "# a. ProductPitched Segmentation\n",
    "tourism['ProductPitched'].value_counts()/tourism.shape[0]*100\n",
    "\n",
    "# b. Male to Female ratio\n",
    "tourism['Gender'].value_counts()/tourism.shape[0]*100\n",
    "sns.countplot(x ='Gender', data = tourism) \n",
    "\n",
    "# c. Histogram for distribution of numeric values \n",
    "columns = ['Age', 'DurationOfPitch', 'NumberOfPersonVisited', 'PitchSatisfactionScore','MonthlyIncome']\n",
    "tourism[columns].hist(stacked=False, bins=100, figsize=(12,30), layout=(14,2))\n",
    "\n",
    "# d. Correlations among variables \n",
    "tourism.corr()\n",
    "\n",
    "# e. Ratio of those who took products \n",
    "tourism['ProdTaken'].value_counts()/tourism.shape[0]*100\n",
    "\n",
    "# f. Those who have higher income tend to purchase high-end products such as super deluxe and king\n",
    "sns.catplot(x=\"ProdTaken\", y=\"MonthlyIncome\", kind=\"box\",hue=\"ProductPitched\", data=tourism)\n",
    "\n",
    "# g. Female to Male by Age Categories \n",
    "sns.barplot(x=\"Gender\", y=\"Age\", data=tourism)\n",
    "\n",
    "# h. How many customers have travel documents  \n",
    "tourism['Passport'].value_counts()/tourism.shape[0]*100\n",
    "\n",
    "# i. Designation by Gender\n",
    "ax = sns.catplot(y=\"Gender\", hue=\"Designation\", kind=\"count\",\n",
    "            palette=\"pastel\", edgecolor=\".6\",\n",
    "            data=tourism)\n",
    "ax.fig.suptitle('Designation by Gender')\n"
   ]
  },
  {
   "cell_type": "markdown",
   "metadata": {},
   "source": [
    "#### EDA Insights:\n",
    "- There are 4888 rows and 20 columns in the dataset\n",
    "- Approximately 73% of customers use Basic or the deluxe packages. \n",
    "- Male customers are slightely higher than females \n",
    "- The distribution of customer age is symmetric with mean 37 and median 36.\n",
    "- The median monthly income of a customer is $22347\n",
    "- There is a weak correlation between age and income of 0.4 \n",
    "- Approx. 81% of customers have not taken the product in comparison to only 18.8% who did. There seems to be  a class imbalance here.\n",
    "- Those who have higher income tend to purchase high-end products such as super deluxe and king\n",
    "- 71% of customers don't have passports, which might result in less purchase and less traveling\n",
    "- 37.9% of customers do not own a car, which could result in them not traveling as often as someone who has a car\n",
    "- There are more Male Managers and executives than females. "
   ]
  },
  {
   "cell_type": "markdown",
   "metadata": {},
   "source": [
    "## 4. Data Cleaning, pre-processing and Handling Missing Values"
   ]
  },
  {
   "cell_type": "code",
   "execution_count": 5,
   "metadata": {},
   "outputs": [],
   "source": [
    "# a. Gender needs to be standarized into two categories\n",
    "tourism['Gender'] = tourism['Gender'].replace('Fe Male', 'Female')\n",
    "\n",
    "# b. Customer_ID is not useful. Will be dropped \n",
    "tourism = tourism.drop(['CustomerID'], axis=1)\n",
    "\n",
    "# c. There are several Missing values:\n",
    "\n",
    "# c.1 Age will be replaced with the mean \n",
    "tourism['Age'] = tourism['Age'].fillna((tourism['Age'].mean()))\n",
    "\n",
    "# c.2 Type of Contact NaN will be replaced with a third category called 'Unspecified'\n",
    "tourism['TypeofContact'] = np.where(tourism['TypeofContact'].isnull(),\"Unspecified\",tourism['TypeofContact'])\n",
    "\n",
    "# c.3 DurationOfPitch, numberoffollowups, and NumberOfTrips will be replaced with the mean\n",
    "tourism['DurationOfPitch'] = tourism['DurationOfPitch'].fillna((tourism['DurationOfPitch'].mean()))\n",
    "tourism['NumberOfFollowups'] = tourism['NumberOfFollowups'].fillna((tourism['NumberOfFollowups'].mean()))\n",
    "tourism['NumberOfTrips'] = tourism['NumberOfTrips'].fillna((tourism['NumberOfTrips'].mean()))\n",
    "\n",
    "# c.4 NumberOfChildrenVisited will be replaced with 0 \n",
    "tourism['NumberOfChildrenVisited'] = tourism['NumberOfChildrenVisited'].fillna(0)\n",
    "\n",
    "# c.5 PreferredPropertyStar is a category and will be replaced with 0 \n",
    "tourism['PreferredPropertyStar'] = tourism['PreferredPropertyStar'].fillna(0.0)\n",
    "\n",
    "# c.6 MonthlyIncome will be replaced with the median income \n",
    "tourism['MonthlyIncome'] = tourism['MonthlyIncome'].fillna((tourism['MonthlyIncome'].median()))\n",
    "\n",
    "\n",
    "# d Replacing categorical ordered variables to numeric values \n",
    "replaceCat = {\n",
    "    'TypeofContact':{'Unspecified': 0,'Self Enquiry':1, 'Company Invited':2},\n",
    "    'Occupation':{'Salaried':1, 'Small Business':2, 'Large Business':3,'Free Lancer':4},\n",
    "    'ProductPitched':{'Basic':0, 'Standard':1,'Deluxe':2,'Super Deluxe':3, 'King':4},\n",
    "    'Designation': {'Executive':0, 'VP':1, 'AVP':2, 'Senior Manager':3,'Manager':4}\n",
    "    }\n",
    "\n",
    "tourism = tourism.replace(replaceCat)\n",
    "\n",
    "\n",
    "# e Create dummy variables for MaritalStatus and Gender\n",
    "onehotencoder = ['MaritalStatus', 'Gender']\n",
    "tourism = pd.get_dummies(tourism, columns = onehotencoder)\n",
    "\n",
    "\n",
    "# f. Convert all object types to categorical\n",
    "for feature in tourism.columns:\n",
    "    if tourism[feature].dtype=='object':\n",
    "        tourism[feature] = pd.Categorical(tourism[feature])\n",
    "       "
   ]
  },
  {
   "cell_type": "markdown",
   "metadata": {},
   "source": [
    "## 5. Prepare Data for Modeling"
   ]
  },
  {
   "cell_type": "code",
   "execution_count": 6,
   "metadata": {},
   "outputs": [],
   "source": [
    "# 5.1 Create a train and test sets\n",
    "X = tourism.drop(['ProdTaken'], axis=1)  \n",
    "y = tourism['ProdTaken']\n",
    "\n",
    "# 5.2 Split into train and test, with stratify because there is class imbalance\n",
    "x_train, x_test, y_train, y_test = train_test_split(X, y, test_size=0.3, random_state=1, stratify=y)"
   ]
  },
  {
   "cell_type": "markdown",
   "metadata": {},
   "source": [
    "### which metric is right for model? \n",
    "- We are interested in finding customers who may take new offering of packages (ProdTaken=1)\n",
    "- The travel package purchase dataset has class imbalance. Approx. 81% of the product taken categories are no (0), and therefore accuracy is not a good measure.\n",
    "- Recall: aims to find the proportion of actual positives was identified correctly. \n",
    "- Therefore, recall is a good measure here, because the marketing cost of identifying customers who might NOT take the product is costly."
   ]
  },
  {
   "cell_type": "markdown",
   "metadata": {},
   "source": [
    "## 6. Function to produce metrics such as accuracy, precision, and recall for train and test sets and Confusion Matrix:\n"
   ]
  },
  {
   "cell_type": "code",
   "execution_count": 7,
   "metadata": {},
   "outputs": [],
   "source": [
    "\n",
    "# Create a confusion Matrix \n",
    "def make_confusion_matrix(model, y_actual, labels=[1,0]):\n",
    "    y_predict = model.predict(x_test)\n",
    "    cm = metrics.confusion_matrix(y_actual, y_predict, labels=[0,1])\n",
    "    df_cm  = pd.DataFrame(cm, index=[i for i in ['Actual-No', 'Actual-Yes']],\n",
    "                          columns =[i for i in ['Predicted-No', 'Predicted-Yes']])\n",
    "    group_counts = [\"{0:0.0f}\".format(value) for value in cm.flatten()]\n",
    "    group_percentages = [\"{0:.2%}\".format(value) for value in cm.flatten()/np.sum(cm)]\n",
    "    labels = [f\"{v1}\\n{v2}\" for v1, v2 in zip(group_counts, group_percentages)]\n",
    "    labels= np.asarray(labels).reshape(2,2)\n",
    "    plt.figure(figsize=(10,7))\n",
    "    sns.heatmap(df_cm, annot=labels, fmt='')\n",
    "    plt.ylabel('True Label')\n",
    "    plt.xlabel('Predicted Label')\n",
    "\n",
    "\n",
    " # Create function to calculate all scores and prints them nicely:\n",
    "\n",
    "def get_metrics_score(model, flag=True):\n",
    "    # empty list to store results\n",
    "    score_list = []\n",
    "    \n",
    "    # Predict on train and test\n",
    "    pred_train = model.predict(x_train)\n",
    "    pred_test = model.predict(x_test)\n",
    "    \n",
    "    # Accuracy\n",
    "    acc_train = model.score(x_train, y_train)\n",
    "    acc_test = model.score(x_test, y_test)\n",
    "    \n",
    "    # Recall\n",
    "    recall_train = metrics.recall_score(y_train, pred_train)\n",
    "    recall_test = metrics.recall_score(y_test, pred_test)\n",
    "    \n",
    "    # Percision\n",
    "    perc_train = metrics.precision_score(y_train, pred_train)\n",
    "    perc_test = metrics.precision_score(y_test, pred_test)\n",
    "    \n",
    "    score_list.extend((acc_train, acc_test, recall_train, recall_test, \n",
    "                   perc_train,   perc_test ))\n",
    "    \n",
    "    if flag == True: \n",
    "        print(\"Accuracy on training set : \",model.score(x_train,y_train))\n",
    "        print(\"Accuracy on test set : \",model.score(x_test,y_test))\n",
    "        print(\"Recall on training set : \",metrics.recall_score(y_train,pred_train))\n",
    "        print(\"Recall on test set : \",metrics.recall_score(y_test,pred_test))\n",
    "        print(\"Precision on training set : \",metrics.precision_score(y_train,pred_train))\n",
    "        print(\"Precision on test set : \",metrics.precision_score(y_test,pred_test))\n",
    "    \n",
    "    return score_list # returning the list with train and test scores"
   ]
  },
  {
   "cell_type": "markdown",
   "metadata": {},
   "source": [
    "## 7. Model building - Bagging \n"
   ]
  },
  {
   "cell_type": "code",
   "execution_count": 8,
   "metadata": {},
   "outputs": [
    {
     "data": {
      "text/plain": [
       "BaggingClassifier(random_state=1)"
      ]
     },
     "execution_count": 8,
     "metadata": {},
     "output_type": "execute_result"
    },
    {
     "name": "stdout",
     "output_type": "stream",
     "text": [
      "Accuracy on training set :  0.9950306927798889\n",
      "Accuracy on test set :  0.912747102931152\n",
      "Recall on training set :  0.9751552795031055\n",
      "Recall on test set :  0.6231884057971014\n",
      "Precision on training set :  0.9984101748807631\n",
      "Precision on test set :  0.8775510204081632\n"
     ]
    },
    {
     "data": {
      "text/plain": [
       "[0.9950306927798889,\n",
       " 0.912747102931152,\n",
       " 0.9751552795031055,\n",
       " 0.6231884057971014,\n",
       " 0.9984101748807631,\n",
       " 0.8775510204081632]"
      ]
     },
     "execution_count": 8,
     "metadata": {},
     "output_type": "execute_result"
    },
    {
     "data": {
      "image/png": "[encoded data removed]",
      "text/plain": [
       "<Figure size 720x504 with 2 Axes>"
      ]
     },
     "metadata": {
      "needs_background": "light"
     },
     "output_type": "display_data"
    }
   ],
   "source": [
    "# Bagging Classfier\n",
    "\n",
    "baggining_estimator = BaggingClassifier(random_state=1)\n",
    "baggining_estimator.fit(x_train, y_train)\n",
    "\n",
    "# Bagging Metrics and Confusion Matrix\n",
    "make_confusion_matrix(baggining_estimator, y_test)\n",
    "get_metrics_score(baggining_estimator)\n"
   ]
  },
  {
   "cell_type": "code",
   "execution_count": 9,
   "metadata": {},
   "outputs": [
    {
     "data": {
      "text/plain": [
       "BaggingClassifier(max_features=0.9, max_samples=0.9, n_estimators=100,\n",
       "                  random_state=1)"
      ]
     },
     "execution_count": 9,
     "metadata": {},
     "output_type": "execute_result"
    },
    {
     "name": "stdout",
     "output_type": "stream",
     "text": [
      "Accuracy on training set :  1.0\n",
      "Accuracy on test set :  0.9222903885480572\n",
      "Recall on training set :  1.0\n",
      "Recall on test set :  0.6340579710144928\n",
      "Precision on training set :  1.0\n",
      "Precision on test set :  0.9308510638297872\n"
     ]
    },
    {
     "data": {
      "text/plain": [
       "[1.0, 0.9222903885480572, 1.0, 0.6340579710144928, 1.0, 0.9308510638297872]"
      ]
     },
     "execution_count": 9,
     "metadata": {},
     "output_type": "execute_result"
    },
    {
     "data": {
      "image/png": "[encoded data removed]",
      "text/plain": [
       "<Figure size 720x504 with 2 Axes>"
      ]
     },
     "metadata": {
      "needs_background": "light"
     },
     "output_type": "display_data"
    }
   ],
   "source": [
    "# 7.2 Bagging Classfier with Grid Search \n",
    "\n",
    "baggining_estimator_tuned = BaggingClassifier(random_state=1)\n",
    "\n",
    "# Grid search \n",
    "parameters = {\n",
    "    'max_samples': [0.6,0.7, 0.8, 0.9, 1], # 70% to 100% of the data\n",
    "    'max_features': [0.6,0.7, 0.8, 0.9, 1], \n",
    "    'n_estimators': [10,20, 30, 40, 50, 100] # number of trees in the forest\n",
    "}\n",
    "\n",
    "# Type of scoring used to compare parameter combination\n",
    "acct_scorer = metrics.make_scorer(metrics.recall_score)\n",
    "\n",
    "# Run the grid search\n",
    "grid_obj = GridSearchCV(baggining_estimator_tuned, parameters, scoring=acct_scorer, cv=5)\n",
    "grid_obj= grid_obj.fit(x_train, y_train)\n",
    "\n",
    "# Set the clf to the best combination of parameters automatically:\n",
    "baggining_estimator_tuned = grid_obj.best_estimator_\n",
    "\n",
    "# fit the best algorithm to the data\n",
    "baggining_estimator_tuned.fit(x_train, y_train)\n",
    "\n",
    "# Bagging Metrics and Confusion Matrix\n",
    "make_confusion_matrix(baggining_estimator_tuned, y_test)\n",
    "get_metrics_score(baggining_estimator_tuned)\n",
    "\n"
   ]
  },
  {
   "cell_type": "code",
   "execution_count": 10,
   "metadata": {},
   "outputs": [],
   "source": [
    "### Bagging Insights: \n",
    "# The training sets seem to overfit \n",
    "# Precision on the test set performs really well with 0.95 precision score.\n",
    "# Recall on the test set performs poorly with 0.49 recall score. "
   ]
  },
  {
   "cell_type": "code",
   "execution_count": 11,
   "metadata": {},
   "outputs": [
    {
     "data": {
      "text/plain": [
       "RandomForestClassifier(random_state=1)"
      ]
     },
     "execution_count": 11,
     "metadata": {},
     "output_type": "execute_result"
    },
    {
     "name": "stdout",
     "output_type": "stream",
     "text": [
      "Accuracy on training set :  1.0\n",
      "Accuracy on test set :  0.9086571233810498\n",
      "Recall on training set :  1.0\n",
      "Recall on test set :  0.5652173913043478\n",
      "Precision on training set :  1.0\n",
      "Precision on test set :  0.9176470588235294\n"
     ]
    },
    {
     "data": {
      "text/plain": [
       "[1.0, 0.9086571233810498, 1.0, 0.5652173913043478, 1.0, 0.9176470588235294]"
      ]
     },
     "execution_count": 11,
     "metadata": {},
     "output_type": "execute_result"
    },
    {
     "data": {
      "image/png": "[encoded data removed]",
      "text/plain": [
       "<Figure size 720x504 with 2 Axes>"
      ]
     },
     "metadata": {
      "needs_background": "light"
     },
     "output_type": "display_data"
    }
   ],
   "source": [
    "## 7.3 Random Forest \n",
    "\n",
    "rf_estimator = RandomForestClassifier(random_state=1)\n",
    "rf_estimator.fit(x_train, y_train)\n",
    "\n",
    "# Bagging Metrics and Confusion Matrix\n",
    "make_confusion_matrix(rf_estimator, y_test)\n",
    "get_metrics_score(rf_estimator)"
   ]
  },
  {
   "cell_type": "code",
   "execution_count": 12,
   "metadata": {},
   "outputs": [
    {
     "data": {
      "text/plain": [
       "RandomForestClassifier(class_weight={0: 0.3, 1: 0.7},\n",
       "                       max_features=0.5000000000000001, min_samples_leaf=6,\n",
       "                       n_estimators=150, random_state=1)"
      ]
     },
     "execution_count": 12,
     "metadata": {},
     "output_type": "execute_result"
    }
   ],
   "source": [
    "# 7.4 Random Forest Model Tuned:\n",
    "\n",
    "rf_estimator_tuned = RandomForestClassifier(random_state=1)\n",
    "\n",
    "# Note: class_weight says: put more emphasis on the customers who will take products 1 by 70%. \n",
    "parameters = {\"n_estimators\": [150,200,250],\n",
    "    \"min_samples_leaf\": np.arange(5, 10),\n",
    "    \"max_features\": np.arange(0.2, 0.7, 0.1),\n",
    "              \"class_weight\": [{0:0.3, 1:0.7}] \n",
    "             }\n",
    "\n",
    "# Type of scoring used to compare parameter combinations\n",
    "acc_scorer = metrics.make_scorer(metrics.recall_score)\n",
    "\n",
    "# Run the grid search\n",
    "grid_obj = GridSearchCV(rf_estimator_tuned, parameters, scoring=acc_scorer,cv=5)\n",
    "grid_obj = grid_obj.fit(x_train, y_train)\n",
    "\n",
    "# Set the clf to the best combination of parameters\n",
    "rf_estimator_tuned = grid_obj.best_estimator_\n",
    "\n",
    "# Fit the best algorithm to the data.\n",
    "rf_estimator_tuned.fit(x_train, y_train)\n"
   ]
  },
  {
   "cell_type": "code",
   "execution_count": 13,
   "metadata": {},
   "outputs": [
    {
     "name": "stdout",
     "output_type": "stream",
     "text": [
      "Accuracy on training set :  0.9576147325343467\n",
      "Accuracy on test set :  0.8888888888888888\n",
      "Recall on training set :  0.8742236024844721\n",
      "Recall on test set :  0.5869565217391305\n",
      "Precision on training set :  0.89792663476874\n",
      "Precision on test set :  0.7677725118483413\n"
     ]
    },
    {
     "data": {
      "text/plain": [
       "[0.9576147325343467,\n",
       " 0.8888888888888888,\n",
       " 0.8742236024844721,\n",
       " 0.5869565217391305,\n",
       " 0.89792663476874,\n",
       " 0.7677725118483413]"
      ]
     },
     "execution_count": 13,
     "metadata": {},
     "output_type": "execute_result"
    },
    {
     "data": {
      "text/plain": [
       "<Figure size 720x720 with 0 Axes>"
      ]
     },
     "execution_count": 13,
     "metadata": {},
     "output_type": "execute_result"
    },
    {
     "data": {
      "text/plain": [
       "Text(0.5, 1.0, 'Feature Importances')"
      ]
     },
     "execution_count": 13,
     "metadata": {},
     "output_type": "execute_result"
    },
    {
     "data": {
      "text/plain": [
       "<BarContainer object of 22 artists>"
      ]
     },
     "execution_count": 13,
     "metadata": {},
     "output_type": "execute_result"
    },
    {
     "data": {
      "text/plain": [
       "([<matplotlib.axis.YTick at 0x7f9d1dc46b10>,\n",
       "  <matplotlib.axis.YTick at 0x7f9d1e033450>,\n",
       "  <matplotlib.axis.YTick at 0x7f9d1e21c2d0>,\n",
       "  <matplotlib.axis.YTick at 0x7f9d1e9e7d10>,\n",
       "  <matplotlib.axis.YTick at 0x7f9d1e9e7fd0>,\n",
       "  <matplotlib.axis.YTick at 0x7f9d1ee48410>,\n",
       "  <matplotlib.axis.YTick at 0x7f9d1ee48350>,\n",
       "  <matplotlib.axis.YTick at 0x7f9d1ee48150>,\n",
       "  <matplotlib.axis.YTick at 0x7f9d1e9f1750>,\n",
       "  <matplotlib.axis.YTick at 0x7f9d1e9f1b10>,\n",
       "  <matplotlib.axis.YTick at 0x7f9d1e9f1dd0>,\n",
       "  <matplotlib.axis.YTick at 0x7f9d1e620d90>,\n",
       "  <matplotlib.axis.YTick at 0x7f9d1e620c90>,\n",
       "  <matplotlib.axis.YTick at 0x7f9d1e9f1c10>,\n",
       "  <matplotlib.axis.YTick at 0x7f9d1ee48b50>,\n",
       "  <matplotlib.axis.YTick at 0x7f9d1e657190>,\n",
       "  <matplotlib.axis.YTick at 0x7f9d1e657610>,\n",
       "  <matplotlib.axis.YTick at 0x7f9d1e657c10>,\n",
       "  <matplotlib.axis.YTick at 0x7f9d1f613990>,\n",
       "  <matplotlib.axis.YTick at 0x7f9d1f613d90>,\n",
       "  <matplotlib.axis.YTick at 0x7f9d1f613390>,\n",
       "  <matplotlib.axis.YTick at 0x7f9d1e1b5190>],\n",
       " [Text(0, 0, 'Gender_Female'),\n",
       "  Text(0, 1, 'Gender_Male'),\n",
       "  Text(0, 2, 'NumberOfPersonVisited'),\n",
       "  Text(0, 3, 'MaritalStatus_Divorced'),\n",
       "  Text(0, 4, 'NumberOfChildrenVisited'),\n",
       "  Text(0, 5, 'OwnCar'),\n",
       "  Text(0, 6, 'TypeofContact'),\n",
       "  Text(0, 7, 'MaritalStatus_Unmarried'),\n",
       "  Text(0, 8, 'MaritalStatus_Married'),\n",
       "  Text(0, 9, 'Occupation'),\n",
       "  Text(0, 10, 'MaritalStatus_Single'),\n",
       "  Text(0, 11, 'PreferredPropertyStar'),\n",
       "  Text(0, 12, 'NumberOfFollowups'),\n",
       "  Text(0, 13, 'PitchSatisfactionScore'),\n",
       "  Text(0, 14, 'NumberOfTrips'),\n",
       "  Text(0, 15, 'Designation'),\n",
       "  Text(0, 16, 'CityTier'),\n",
       "  Text(0, 17, 'ProductPitched'),\n",
       "  Text(0, 18, 'DurationOfPitch'),\n",
       "  Text(0, 19, 'MonthlyIncome'),\n",
       "  Text(0, 20, 'Age'),\n",
       "  Text(0, 21, 'Passport')])"
      ]
     },
     "execution_count": 13,
     "metadata": {},
     "output_type": "execute_result"
    },
    {
     "data": {
      "text/plain": [
       "Text(0.5, 0, 'Relative Importance')"
      ]
     },
     "execution_count": 13,
     "metadata": {},
     "output_type": "execute_result"
    },
    {
     "data": {
      "image/png": "[encoded data removed]",
      "text/plain": [
       "<Figure size 720x504 with 2 Axes>"
      ]
     },
     "metadata": {
      "needs_background": "light"
     },
     "output_type": "display_data"
    },
    {
     "data": {
      "image/png": "[encoded data removed]",
      "text/plain": [
       "<Figure size 720x720 with 1 Axes>"
      ]
     },
     "metadata": {
      "needs_background": "light"
     },
     "output_type": "display_data"
    }
   ],
   "source": [
    "# RF Metrics and Confusion Matrix\n",
    "make_confusion_matrix(rf_estimator_tuned, y_test)\n",
    "get_metrics_score(rf_estimator_tuned)\n",
    "\n",
    "# Important Features: \n",
    "importances = rf_estimator_tuned.feature_importances_\n",
    "indices = np.argsort(importances)\n",
    "feature_names = X.columns\n",
    "\n",
    "plt.figure(figsize=(10,10))\n",
    "plt.title('Feature Importances')\n",
    "plt.barh(range(len(indices)), importances[indices], color='violet', align='center')\n",
    "plt.yticks(range(len(indices)), [feature_names[i] for i in indices])\n",
    "plt.xlabel('Relative Importance')\n",
    "plt.show()"
   ]
  },
  {
   "cell_type": "code",
   "execution_count": 14,
   "metadata": {},
   "outputs": [],
   "source": [
    "# Random Forest Insights: \n",
    "# The training sets seem to overfit the data \n",
    "# Precision on the test set performs really well with 0.95 precision score.\n",
    "# Recall on the test set performs poorly with 0.49 recall score."
   ]
  },
  {
   "cell_type": "code",
   "execution_count": 15,
   "metadata": {},
   "outputs": [
    {
     "data": {
      "text/plain": [
       "DecisionTreeClassifier(random_state=1)"
      ]
     },
     "execution_count": 15,
     "metadata": {},
     "output_type": "execute_result"
    },
    {
     "name": "stdout",
     "output_type": "stream",
     "text": [
      "Accuracy on training set :  1.0\n",
      "Accuracy on test set :  0.8752556237218814\n",
      "Recall on training set :  1.0\n",
      "Recall on test set :  0.6268115942028986\n",
      "Precision on training set :  1.0\n",
      "Precision on test set :  0.6837944664031621\n"
     ]
    },
    {
     "data": {
      "text/plain": [
       "[1.0, 0.8752556237218814, 1.0, 0.6268115942028986, 1.0, 0.6837944664031621]"
      ]
     },
     "execution_count": 15,
     "metadata": {},
     "output_type": "execute_result"
    },
    {
     "data": {
      "image/png": "[encoded data removed]",
      "text/plain": [
       "<Figure size 720x504 with 2 Axes>"
      ]
     },
     "metadata": {
      "needs_background": "light"
     },
     "output_type": "display_data"
    }
   ],
   "source": [
    "# 7.5 Decision Tree \n",
    "\n",
    "\n",
    "\n",
    "dt_estimator = DecisionTreeClassifier(random_state=1)\n",
    "dt_estimator.fit(x_train, y_train)\n",
    "\n",
    "# Bagging Metrics and Confusion Matrix\n",
    "make_confusion_matrix(dt_estimator, y_test)\n",
    "get_metrics_score(dt_estimator)"
   ]
  },
  {
   "cell_type": "code",
   "execution_count": 16,
   "metadata": {},
   "outputs": [
    {
     "data": {
      "text/plain": [
       "DecisionTreeClassifier(max_depth=2, max_leaf_nodes=3,\n",
       "                       min_impurity_decrease=0.001, random_state=1)"
      ]
     },
     "execution_count": 16,
     "metadata": {},
     "output_type": "execute_result"
    },
    {
     "data": {
      "text/plain": [
       "<Figure size 720x720 with 0 Axes>"
      ]
     },
     "execution_count": 16,
     "metadata": {},
     "output_type": "execute_result"
    },
    {
     "data": {
      "text/plain": [
       "Text(0.5, 1.0, 'Feature Importances')"
      ]
     },
     "execution_count": 16,
     "metadata": {},
     "output_type": "execute_result"
    },
    {
     "data": {
      "text/plain": [
       "<BarContainer object of 22 artists>"
      ]
     },
     "execution_count": 16,
     "metadata": {},
     "output_type": "execute_result"
    },
    {
     "data": {
      "text/plain": [
       "([<matplotlib.axis.YTick at 0x7f9d1e8e39d0>,\n",
       "  <matplotlib.axis.YTick at 0x7f9d1e8e37d0>,\n",
       "  <matplotlib.axis.YTick at 0x7f9d1e81cb90>,\n",
       "  <matplotlib.axis.YTick at 0x7f9d1e7901d0>,\n",
       "  <matplotlib.axis.YTick at 0x7f9d1e7d0690>,\n",
       "  <matplotlib.axis.YTick at 0x7f9d1e7d0e50>,\n",
       "  <matplotlib.axis.YTick at 0x7f9d1e7d0a50>,\n",
       "  <matplotlib.axis.YTick at 0x7f9d1d53e810>,\n",
       "  <matplotlib.axis.YTick at 0x7f9d1f630190>,\n",
       "  <matplotlib.axis.YTick at 0x7f9d1f630410>,\n",
       "  <matplotlib.axis.YTick at 0x7f9d1dc54810>,\n",
       "  <matplotlib.axis.YTick at 0x7f9d1e7d0d50>,\n",
       "  <matplotlib.axis.YTick at 0x7f9d1e790050>,\n",
       "  <matplotlib.axis.YTick at 0x7f9d1dc541d0>,\n",
       "  <matplotlib.axis.YTick at 0x7f9d1dc54850>,\n",
       "  <matplotlib.axis.YTick at 0x7f9d1dc54b10>,\n",
       "  <matplotlib.axis.YTick at 0x7f9d1f610fd0>,\n",
       "  <matplotlib.axis.YTick at 0x7f9d1f610f90>,\n",
       "  <matplotlib.axis.YTick at 0x7f9d1d8eee50>,\n",
       "  <matplotlib.axis.YTick at 0x7f9d1d8eea90>,\n",
       "  <matplotlib.axis.YTick at 0x7f9d1f6104d0>,\n",
       "  <matplotlib.axis.YTick at 0x7f9d1f630650>],\n",
       " [Text(0, 0, 'Age'),\n",
       "  Text(0, 1, 'MaritalStatus_Unmarried'),\n",
       "  Text(0, 2, 'MaritalStatus_Single'),\n",
       "  Text(0, 3, 'MaritalStatus_Married'),\n",
       "  Text(0, 4, 'MaritalStatus_Divorced'),\n",
       "  Text(0, 5, 'MonthlyIncome'),\n",
       "  Text(0, 6, 'NumberOfChildrenVisited'),\n",
       "  Text(0, 7, 'OwnCar'),\n",
       "  Text(0, 8, 'PitchSatisfactionScore'),\n",
       "  Text(0, 9, 'Gender_Female'),\n",
       "  Text(0, 10, 'Gender_Male'),\n",
       "  Text(0, 11, 'PreferredPropertyStar'),\n",
       "  Text(0, 12, 'ProductPitched'),\n",
       "  Text(0, 13, 'NumberOfFollowups'),\n",
       "  Text(0, 14, 'NumberOfPersonVisited'),\n",
       "  Text(0, 15, 'Occupation'),\n",
       "  Text(0, 16, 'DurationOfPitch'),\n",
       "  Text(0, 17, 'CityTier'),\n",
       "  Text(0, 18, 'TypeofContact'),\n",
       "  Text(0, 19, 'NumberOfTrips'),\n",
       "  Text(0, 20, 'Designation'),\n",
       "  Text(0, 21, 'Passport')])"
      ]
     },
     "execution_count": 16,
     "metadata": {},
     "output_type": "execute_result"
    },
    {
     "data": {
      "text/plain": [
       "Text(0.5, 0, 'Relative Importance')"
      ]
     },
     "execution_count": 16,
     "metadata": {},
     "output_type": "execute_result"
    },
    {
     "data": {
      "image/png": "[encoded data removed]",
      "text/plain": [
       "<Figure size 720x720 with 1 Axes>"
      ]
     },
     "metadata": {
      "needs_background": "light"
     },
     "output_type": "display_data"
    }
   ],
   "source": [
    "# 7.6 Decision Tree Tuned\n",
    "\n",
    "Decision_Tree_estimator = DecisionTreeClassifier(random_state=1)\n",
    "\n",
    "# Grid of parameters to choose from\n",
    "\n",
    "parameters = {'max_depth': np.arange(1,10), \n",
    "              'min_samples_leaf': [1, 2, 5, 7, 10,15,20],\n",
    "              'max_leaf_nodes' : [2, 3, 5, 10],\n",
    "              'min_impurity_decrease': [0.001,0.01,0.1]\n",
    "             }\n",
    "\n",
    "# Type of scoring used to compare parameter combinations\n",
    "acc_scorer = metrics.make_scorer(metrics.recall_score)\n",
    "\n",
    "# Run the grid search\n",
    "grid_obj = GridSearchCV(Decision_Tree_estimator, parameters, scoring=acc_scorer,cv=5)\n",
    "grid_obj = grid_obj.fit(x_train, y_train)\n",
    "\n",
    "# Set the clf to the best combination of parameters\n",
    "Decision_Tree_estimator = grid_obj.best_estimator_\n",
    "\n",
    "# Fit the best algorithm to the data. \n",
    "Decision_Tree_estimator.fit(x_train, y_train)\n",
    "\n",
    "\n",
    "# Important Features: \n",
    "importances = Decision_Tree_estimator.feature_importances_\n",
    "indices = np.argsort(importances)\n",
    "feature_names = X.columns\n",
    "\n",
    "plt.figure(figsize=(10,10))\n",
    "plt.title('Feature Importances')\n",
    "plt.barh(range(len(indices)), importances[indices], color='violet', align='center')\n",
    "plt.yticks(range(len(indices)), [feature_names[i] for i in indices])\n",
    "plt.xlabel('Relative Importance')\n",
    "plt.show()"
   ]
  },
  {
   "cell_type": "markdown",
   "metadata": {},
   "source": [
    "## 8. Model Building - Boosting"
   ]
  },
  {
   "cell_type": "code",
   "execution_count": 17,
   "metadata": {},
   "outputs": [
    {
     "data": {
      "text/plain": [
       "AdaBoostClassifier(random_state=1)"
      ]
     },
     "execution_count": 17,
     "metadata": {},
     "output_type": "execute_result"
    },
    {
     "name": "stdout",
     "output_type": "stream",
     "text": [
      "Accuracy on training set :  0.84536685179772\n",
      "Accuracy on test set :  0.8507157464212679\n",
      "Recall on training set :  0.3090062111801242\n",
      "Recall on test set :  0.32608695652173914\n",
      "Precision on training set :  0.7031802120141343\n",
      "Precision on test set :  0.7317073170731707\n"
     ]
    },
    {
     "data": {
      "text/plain": [
       "[0.84536685179772,\n",
       " 0.8507157464212679,\n",
       " 0.3090062111801242,\n",
       " 0.32608695652173914,\n",
       " 0.7031802120141343,\n",
       " 0.7317073170731707]"
      ]
     },
     "execution_count": 17,
     "metadata": {},
     "output_type": "execute_result"
    },
    {
     "data": {
      "image/png": "[encoded data removed]",
      "text/plain": [
       "<Figure size 720x504 with 2 Axes>"
      ]
     },
     "metadata": {
      "needs_background": "light"
     },
     "output_type": "display_data"
    }
   ],
   "source": [
    "# 8.1 AdaBoost\n",
    "\n",
    "adaboost = AdaBoostClassifier(random_state=1)\n",
    "adaboost.fit(x_train, y_train)\n",
    "\n",
    "# Matrix and Scores:\n",
    "get_metrics_score(adaboost)\n",
    "make_confusion_matrix(adaboost, y_test)"
   ]
  },
  {
   "cell_type": "code",
   "execution_count": 18,
   "metadata": {},
   "outputs": [
    {
     "data": {
      "text/plain": [
       "GridSearchCV(cv=5, estimator=AdaBoostClassifier(random_state=1),\n",
       "             param_grid={'base_estimator': [DecisionTreeClassifier(max_depth=1),\n",
       "                                            DecisionTreeClassifier(max_depth=2),\n",
       "                                            DecisionTreeClassifier(max_depth=3),\n",
       "                                            DecisionTreeClassifier(max_depth=4),\n",
       "                                            DecisionTreeClassifier(max_depth=5)],\n",
       "                         'learning_rate': array([0.1, 0.2, 0.3, 0.4, 0.5, 0.6, 0.7, 0.8, 0.9, 1. , 1.1, 1.2, 1.3,\n",
       "       1.4, 1.5, 1.6, 1.7, 1.8, 1.9]),\n",
       "                         'n_estimators': array([ 10,  20,  30,  40,  50,  60,  70,  80,  90, 100])},\n",
       "             scoring=make_scorer(recall_score))"
      ]
     },
     "execution_count": 18,
     "metadata": {},
     "output_type": "execute_result"
    },
    {
     "data": {
      "text/plain": [
       "AdaBoostClassifier(base_estimator=DecisionTreeClassifier(max_depth=4),\n",
       "                   learning_rate=1.3000000000000003, n_estimators=60,\n",
       "                   random_state=1)"
      ]
     },
     "execution_count": 18,
     "metadata": {},
     "output_type": "execute_result"
    },
    {
     "name": "stdout",
     "output_type": "stream",
     "text": [
      "Accuracy on training set :  1.0\n",
      "Accuracy on test set :  0.880027266530334\n",
      "Recall on training set :  1.0\n",
      "Recall on test set :  0.5760869565217391\n",
      "Precision on training set :  1.0\n",
      "Precision on test set :  0.7293577981651376\n"
     ]
    },
    {
     "data": {
      "text/plain": [
       "[1.0, 0.880027266530334, 1.0, 0.5760869565217391, 1.0, 0.7293577981651376]"
      ]
     },
     "execution_count": 18,
     "metadata": {},
     "output_type": "execute_result"
    },
    {
     "data": {
      "text/plain": [
       "<Figure size 864x864 with 0 Axes>"
      ]
     },
     "execution_count": 18,
     "metadata": {},
     "output_type": "execute_result"
    },
    {
     "data": {
      "text/plain": [
       "Text(0.5, 1.0, 'Feature Importance')"
      ]
     },
     "execution_count": 18,
     "metadata": {},
     "output_type": "execute_result"
    },
    {
     "data": {
      "text/plain": [
       "<BarContainer object of 22 artists>"
      ]
     },
     "execution_count": 18,
     "metadata": {},
     "output_type": "execute_result"
    },
    {
     "data": {
      "text/plain": [
       "([<matplotlib.axis.YTick at 0x7f9d1807af90>,\n",
       "  <matplotlib.axis.YTick at 0x7f9d18066690>,\n",
       "  <matplotlib.axis.YTick at 0x7f9d1d001910>,\n",
       "  <matplotlib.axis.YTick at 0x7f9d18b5dbd0>,\n",
       "  <matplotlib.axis.YTick at 0x7f9d18b5d590>,\n",
       "  <matplotlib.axis.YTick at 0x7f9d18b5de90>,\n",
       "  <matplotlib.axis.YTick at 0x7f9d1e7da610>,\n",
       "  <matplotlib.axis.YTick at 0x7f9d1e7dab50>,\n",
       "  <matplotlib.axis.YTick at 0x7f9d18b5dad0>,\n",
       "  <matplotlib.axis.YTick at 0x7f9d1e7da790>,\n",
       "  <matplotlib.axis.YTick at 0x7f9d1d580f90>,\n",
       "  <matplotlib.axis.YTick at 0x7f9d1d580d10>,\n",
       "  <matplotlib.axis.YTick at 0x7f9d1d580090>,\n",
       "  <matplotlib.axis.YTick at 0x7f9d1e59c7d0>,\n",
       "  <matplotlib.axis.YTick at 0x7f9d1e59c910>,\n",
       "  <matplotlib.axis.YTick at 0x7f9d1e59c510>,\n",
       "  <matplotlib.axis.YTick at 0x7f9d1e57bb50>,\n",
       "  <matplotlib.axis.YTick at 0x7f9d1e59cc90>,\n",
       "  <matplotlib.axis.YTick at 0x7f9d1e7da110>,\n",
       "  <matplotlib.axis.YTick at 0x7f9d1e57b650>,\n",
       "  <matplotlib.axis.YTick at 0x7f9d1e57be90>,\n",
       "  <matplotlib.axis.YTick at 0x7f9d1f646e10>],\n",
       " [Text(0, 0, 'MaritalStatus_Divorced'),\n",
       "  Text(0, 1, 'Gender_Female'),\n",
       "  Text(0, 2, 'MaritalStatus_Unmarried'),\n",
       "  Text(0, 3, 'MaritalStatus_Married'),\n",
       "  Text(0, 4, 'MaritalStatus_Single'),\n",
       "  Text(0, 5, 'OwnCar'),\n",
       "  Text(0, 6, 'Gender_Male'),\n",
       "  Text(0, 7, 'NumberOfChildrenVisited'),\n",
       "  Text(0, 8, 'TypeofContact'),\n",
       "  Text(0, 9, 'NumberOfPersonVisited'),\n",
       "  Text(0, 10, 'ProductPitched'),\n",
       "  Text(0, 11, 'PreferredPropertyStar'),\n",
       "  Text(0, 12, 'CityTier'),\n",
       "  Text(0, 13, 'NumberOfFollowups'),\n",
       "  Text(0, 14, 'Designation'),\n",
       "  Text(0, 15, 'Passport'),\n",
       "  Text(0, 16, 'Occupation'),\n",
       "  Text(0, 17, 'PitchSatisfactionScore'),\n",
       "  Text(0, 18, 'NumberOfTrips'),\n",
       "  Text(0, 19, 'DurationOfPitch'),\n",
       "  Text(0, 20, 'Age'),\n",
       "  Text(0, 21, 'MonthlyIncome')])"
      ]
     },
     "execution_count": 18,
     "metadata": {},
     "output_type": "execute_result"
    },
    {
     "data": {
      "text/plain": [
       "([<matplotlib.axis.YTick at 0x7f9d1807af90>,\n",
       "  <matplotlib.axis.YTick at 0x7f9d18066690>,\n",
       "  <matplotlib.axis.YTick at 0x7f9d1d001910>,\n",
       "  <matplotlib.axis.YTick at 0x7f9d18b5dbd0>,\n",
       "  <matplotlib.axis.YTick at 0x7f9d18b5d590>,\n",
       "  <matplotlib.axis.YTick at 0x7f9d18b5de90>,\n",
       "  <matplotlib.axis.YTick at 0x7f9d1e7da610>,\n",
       "  <matplotlib.axis.YTick at 0x7f9d1e7dab50>,\n",
       "  <matplotlib.axis.YTick at 0x7f9d18b5dad0>,\n",
       "  <matplotlib.axis.YTick at 0x7f9d1e7da790>,\n",
       "  <matplotlib.axis.YTick at 0x7f9d1d580f90>,\n",
       "  <matplotlib.axis.YTick at 0x7f9d1d580d10>,\n",
       "  <matplotlib.axis.YTick at 0x7f9d1d580090>,\n",
       "  <matplotlib.axis.YTick at 0x7f9d1e59c7d0>,\n",
       "  <matplotlib.axis.YTick at 0x7f9d1e59c910>,\n",
       "  <matplotlib.axis.YTick at 0x7f9d1e59c510>,\n",
       "  <matplotlib.axis.YTick at 0x7f9d1e57bb50>,\n",
       "  <matplotlib.axis.YTick at 0x7f9d1e59cc90>,\n",
       "  <matplotlib.axis.YTick at 0x7f9d1e7da110>,\n",
       "  <matplotlib.axis.YTick at 0x7f9d1e57b650>,\n",
       "  <matplotlib.axis.YTick at 0x7f9d1e57be90>,\n",
       "  <matplotlib.axis.YTick at 0x7f9d1f646e10>],\n",
       " [Text(0, 0, 'MaritalStatus_Divorced'),\n",
       "  Text(0, 1, 'Gender_Female'),\n",
       "  Text(0, 2, 'MaritalStatus_Unmarried'),\n",
       "  Text(0, 3, 'MaritalStatus_Married'),\n",
       "  Text(0, 4, 'MaritalStatus_Single'),\n",
       "  Text(0, 5, 'OwnCar'),\n",
       "  Text(0, 6, 'Gender_Male'),\n",
       "  Text(0, 7, 'NumberOfChildrenVisited'),\n",
       "  Text(0, 8, 'TypeofContact'),\n",
       "  Text(0, 9, 'NumberOfPersonVisited'),\n",
       "  Text(0, 10, 'ProductPitched'),\n",
       "  Text(0, 11, 'PreferredPropertyStar'),\n",
       "  Text(0, 12, 'CityTier'),\n",
       "  Text(0, 13, 'NumberOfFollowups'),\n",
       "  Text(0, 14, 'Designation'),\n",
       "  Text(0, 15, 'Passport'),\n",
       "  Text(0, 16, 'Occupation'),\n",
       "  Text(0, 17, 'PitchSatisfactionScore'),\n",
       "  Text(0, 18, 'NumberOfTrips'),\n",
       "  Text(0, 19, 'DurationOfPitch'),\n",
       "  Text(0, 20, 'Age'),\n",
       "  Text(0, 21, 'MonthlyIncome')])"
      ]
     },
     "execution_count": 18,
     "metadata": {},
     "output_type": "execute_result"
    },
    {
     "data": {
      "text/plain": [
       "Text(0.5, 0, 'Relative Importance')"
      ]
     },
     "execution_count": 18,
     "metadata": {},
     "output_type": "execute_result"
    },
    {
     "data": {
      "image/png": "[encoded data removed]",
      "text/plain": [
       "<Figure size 720x504 with 2 Axes>"
      ]
     },
     "metadata": {
      "needs_background": "light"
     },
     "output_type": "display_data"
    },
    {
     "data": {
      "image/png": "[encoded data removed]",
      "text/plain": [
       "<Figure size 864x864 with 1 Axes>"
      ]
     },
     "metadata": {
      "needs_background": "light"
     },
     "output_type": "display_data"
    }
   ],
   "source": [
    "# 8.2 AdaBoost Tuned\n",
    "adaboost_tuned = AdaBoostClassifier(random_state=1)\n",
    "\n",
    "# base estimator can be decision trees with multiple depths\n",
    "parameters = {\n",
    "    'base_estimator':[DecisionTreeClassifier(max_depth=1),DecisionTreeClassifier(max_depth=2),DecisionTreeClassifier(max_depth=3),DecisionTreeClassifier(max_depth=4),DecisionTreeClassifier(max_depth=5)],\n",
    "    'n_estimators':np.arange(10, 110, 10),\n",
    "    'learning_rate': np.arange(0.1, 2, 0.1)\n",
    "}\n",
    "acct_score = metrics.make_scorer(metrics.recall_score)\n",
    "\n",
    "# Grid search\n",
    "grid_search = GridSearchCV(adaboost_tuned, parameters, scoring=acct_score, cv=5)\n",
    "grid_search.fit(x_train, y_train)\n",
    "\n",
    "adaboost_tuned = grid_search.best_estimator_\n",
    "\n",
    "adaboost_tuned.fit(x_train, y_train)\n",
    "\n",
    "# get score info for adaboost tuned \n",
    "get_metrics_score(adaboost_tuned)\n",
    "make_confusion_matrix(adaboost_tuned, y_test)\n",
    "\n",
    "# Important Features \n",
    "importance = adaboost_tuned.feature_importances_\n",
    "indices  = np.argsort(importance)\n",
    "feature_names = list(X.columns)\n",
    "\n",
    "plt.figure(figsize=(12,12))\n",
    "plt.title('Feature Importance')\n",
    "plt.barh(range(len(indices)), importance[indices], color='violet', align='center')\n",
    "plt.yticks(range(len(indices)), [feature_names[i] for i in indices])\n",
    "plt.yticks(range(len(indices)), [feature_names[i] for i in indices])\n",
    "plt.xlabel('Relative Importance')\n",
    "plt.show()\n"
   ]
  },
  {
   "cell_type": "code",
   "execution_count": 19,
   "metadata": {},
   "outputs": [
    {
     "data": {
      "text/plain": [
       "GradientBoostingClassifier(init=AdaBoostClassifier(random_state=1),\n",
       "                           random_state=1)"
      ]
     },
     "execution_count": 19,
     "metadata": {},
     "output_type": "execute_result"
    },
    {
     "name": "stdout",
     "output_type": "stream",
     "text": [
      "Accuracy on training set :  0.8883367436422098\n",
      "Accuracy on test set :  0.8698023176550784\n",
      "Recall on training set :  0.468944099378882\n",
      "Recall on test set :  0.4166666666666667\n",
      "Precision on training set :  0.8830409356725146\n",
      "Precision on test set :  0.7931034482758621\n"
     ]
    },
    {
     "data": {
      "text/plain": [
       "[0.8883367436422098,\n",
       " 0.8698023176550784,\n",
       " 0.468944099378882,\n",
       " 0.4166666666666667,\n",
       " 0.8830409356725146,\n",
       " 0.7931034482758621]"
      ]
     },
     "execution_count": 19,
     "metadata": {},
     "output_type": "execute_result"
    },
    {
     "data": {
      "image/png": "[encoded data removed]",
      "text/plain": [
       "<Figure size 720x504 with 2 Axes>"
      ]
     },
     "metadata": {
      "needs_background": "light"
     },
     "output_type": "display_data"
    }
   ],
   "source": [
    "# 8.3 Gradient Boosting Classifier\n",
    "\n",
    "gboosting = GradientBoostingClassifier(init=AdaBoostClassifier(random_state=1), random_state=1)\n",
    "gboosting.fit(x_train, y_train)\n",
    "\n",
    "# See results \n",
    "get_metrics_score(gboosting)\n",
    "make_confusion_matrix(gboosting, y_test)\n",
    "\n"
   ]
  },
  {
   "cell_type": "code",
   "execution_count": 20,
   "metadata": {},
   "outputs": [
    {
     "data": {
      "text/plain": [
       "GridSearchCV(cv=5,\n",
       "             estimator=GradientBoostingClassifier(init=AdaBoostClassifier(random_state=1),\n",
       "                                                  random_state=1),\n",
       "             param_grid={'max_features': [0.7, 0.8, 0.9, 1],\n",
       "                         'n_estimators': [100, 150, 200, 250]},\n",
       "             scoring=make_scorer(recall_score))"
      ]
     },
     "execution_count": 20,
     "metadata": {},
     "output_type": "execute_result"
    },
    {
     "data": {
      "text/plain": [
       "GradientBoostingClassifier(init=AdaBoostClassifier(random_state=1),\n",
       "                           max_features=0.9, n_estimators=250, random_state=1)"
      ]
     },
     "execution_count": 20,
     "metadata": {},
     "output_type": "execute_result"
    },
    {
     "name": "stdout",
     "output_type": "stream",
     "text": [
      "Accuracy on training set :  0.9172756503946214\n",
      "Accuracy on test set :  0.8711656441717791\n",
      "Recall on training set :  0.610248447204969\n",
      "Recall on test set :  0.4492753623188406\n",
      "Precision on training set :  0.9247058823529412\n",
      "Precision on test set :  0.7701863354037267\n"
     ]
    },
    {
     "data": {
      "text/plain": [
       "[0.9172756503946214,\n",
       " 0.8711656441717791,\n",
       " 0.610248447204969,\n",
       " 0.4492753623188406,\n",
       " 0.9247058823529412,\n",
       " 0.7701863354037267]"
      ]
     },
     "execution_count": 20,
     "metadata": {},
     "output_type": "execute_result"
    },
    {
     "data": {
      "text/plain": [
       "<Figure size 864x864 with 0 Axes>"
      ]
     },
     "execution_count": 20,
     "metadata": {},
     "output_type": "execute_result"
    },
    {
     "data": {
      "text/plain": [
       "Text(0.5, 1.0, 'Feature Importance')"
      ]
     },
     "execution_count": 20,
     "metadata": {},
     "output_type": "execute_result"
    },
    {
     "data": {
      "text/plain": [
       "<BarContainer object of 22 artists>"
      ]
     },
     "execution_count": 20,
     "metadata": {},
     "output_type": "execute_result"
    },
    {
     "data": {
      "text/plain": [
       "([<matplotlib.axis.YTick at 0x7f9d1e7c2f50>,\n",
       "  <matplotlib.axis.YTick at 0x7f9d1e20d190>,\n",
       "  <matplotlib.axis.YTick at 0x7f9d1e2727d0>,\n",
       "  <matplotlib.axis.YTick at 0x7f9d1e73c290>,\n",
       "  <matplotlib.axis.YTick at 0x7f9d1e65c850>,\n",
       "  <matplotlib.axis.YTick at 0x7f9d1e65cc10>,\n",
       "  <matplotlib.axis.YTick at 0x7f9d1e65c990>,\n",
       "  <matplotlib.axis.YTick at 0x7f9d1e013810>,\n",
       "  <matplotlib.axis.YTick at 0x7f9d1e8cd0d0>,\n",
       "  <matplotlib.axis.YTick at 0x7f9d1e8cd6d0>,\n",
       "  <matplotlib.axis.YTick at 0x7f9d1e8cdd10>,\n",
       "  <matplotlib.axis.YTick at 0x7f9d1f6161d0>,\n",
       "  <matplotlib.axis.YTick at 0x7f9d1f616210>,\n",
       "  <matplotlib.axis.YTick at 0x7f9d1f616d10>,\n",
       "  <matplotlib.axis.YTick at 0x7f9d1d5c6310>,\n",
       "  <matplotlib.axis.YTick at 0x7f9d1d5c6ed0>,\n",
       "  <matplotlib.axis.YTick at 0x7f9d1f616310>,\n",
       "  <matplotlib.axis.YTick at 0x7f9d1e8cd5d0>,\n",
       "  <matplotlib.axis.YTick at 0x7f9d1d6d1710>,\n",
       "  <matplotlib.axis.YTick at 0x7f9d1d5d5990>,\n",
       "  <matplotlib.axis.YTick at 0x7f9d1d5d5c90>,\n",
       "  <matplotlib.axis.YTick at 0x7f9d1d5d5250>],\n",
       " [Text(0, 0, 'MaritalStatus_Divorced'),\n",
       "  Text(0, 1, 'OwnCar'),\n",
       "  Text(0, 2, 'NumberOfChildrenVisited'),\n",
       "  Text(0, 3, 'Gender_Female'),\n",
       "  Text(0, 4, 'Gender_Male'),\n",
       "  Text(0, 5, 'MaritalStatus_Married'),\n",
       "  Text(0, 6, 'NumberOfPersonVisited'),\n",
       "  Text(0, 7, 'TypeofContact'),\n",
       "  Text(0, 8, 'Occupation'),\n",
       "  Text(0, 9, 'PitchSatisfactionScore'),\n",
       "  Text(0, 10, 'MaritalStatus_Unmarried'),\n",
       "  Text(0, 11, 'PreferredPropertyStar'),\n",
       "  Text(0, 12, 'MaritalStatus_Single'),\n",
       "  Text(0, 13, 'NumberOfTrips'),\n",
       "  Text(0, 14, 'NumberOfFollowups'),\n",
       "  Text(0, 15, 'CityTier'),\n",
       "  Text(0, 16, 'Designation'),\n",
       "  Text(0, 17, 'ProductPitched'),\n",
       "  Text(0, 18, 'DurationOfPitch'),\n",
       "  Text(0, 19, 'Passport'),\n",
       "  Text(0, 20, 'Age'),\n",
       "  Text(0, 21, 'MonthlyIncome')])"
      ]
     },
     "execution_count": 20,
     "metadata": {},
     "output_type": "execute_result"
    },
    {
     "data": {
      "text/plain": [
       "([<matplotlib.axis.YTick at 0x7f9d1e7c2f50>,\n",
       "  <matplotlib.axis.YTick at 0x7f9d1e20d190>,\n",
       "  <matplotlib.axis.YTick at 0x7f9d1e2727d0>,\n",
       "  <matplotlib.axis.YTick at 0x7f9d1e73c290>,\n",
       "  <matplotlib.axis.YTick at 0x7f9d1e65c850>,\n",
       "  <matplotlib.axis.YTick at 0x7f9d1e65cc10>,\n",
       "  <matplotlib.axis.YTick at 0x7f9d1e65c990>,\n",
       "  <matplotlib.axis.YTick at 0x7f9d1e013810>,\n",
       "  <matplotlib.axis.YTick at 0x7f9d1e8cd0d0>,\n",
       "  <matplotlib.axis.YTick at 0x7f9d1e8cd6d0>,\n",
       "  <matplotlib.axis.YTick at 0x7f9d1e8cdd10>,\n",
       "  <matplotlib.axis.YTick at 0x7f9d1f6161d0>,\n",
       "  <matplotlib.axis.YTick at 0x7f9d1f616210>,\n",
       "  <matplotlib.axis.YTick at 0x7f9d1f616d10>,\n",
       "  <matplotlib.axis.YTick at 0x7f9d1d5c6310>,\n",
       "  <matplotlib.axis.YTick at 0x7f9d1d5c6ed0>,\n",
       "  <matplotlib.axis.YTick at 0x7f9d1f616310>,\n",
       "  <matplotlib.axis.YTick at 0x7f9d1e8cd5d0>,\n",
       "  <matplotlib.axis.YTick at 0x7f9d1d6d1710>,\n",
       "  <matplotlib.axis.YTick at 0x7f9d1d5d5990>,\n",
       "  <matplotlib.axis.YTick at 0x7f9d1d5d5c90>,\n",
       "  <matplotlib.axis.YTick at 0x7f9d1d5d5250>],\n",
       " [Text(0, 0, 'MaritalStatus_Divorced'),\n",
       "  Text(0, 1, 'OwnCar'),\n",
       "  Text(0, 2, 'NumberOfChildrenVisited'),\n",
       "  Text(0, 3, 'Gender_Female'),\n",
       "  Text(0, 4, 'Gender_Male'),\n",
       "  Text(0, 5, 'MaritalStatus_Married'),\n",
       "  Text(0, 6, 'NumberOfPersonVisited'),\n",
       "  Text(0, 7, 'TypeofContact'),\n",
       "  Text(0, 8, 'Occupation'),\n",
       "  Text(0, 9, 'PitchSatisfactionScore'),\n",
       "  Text(0, 10, 'MaritalStatus_Unmarried'),\n",
       "  Text(0, 11, 'PreferredPropertyStar'),\n",
       "  Text(0, 12, 'MaritalStatus_Single'),\n",
       "  Text(0, 13, 'NumberOfTrips'),\n",
       "  Text(0, 14, 'NumberOfFollowups'),\n",
       "  Text(0, 15, 'CityTier'),\n",
       "  Text(0, 16, 'Designation'),\n",
       "  Text(0, 17, 'ProductPitched'),\n",
       "  Text(0, 18, 'DurationOfPitch'),\n",
       "  Text(0, 19, 'Passport'),\n",
       "  Text(0, 20, 'Age'),\n",
       "  Text(0, 21, 'MonthlyIncome')])"
      ]
     },
     "execution_count": 20,
     "metadata": {},
     "output_type": "execute_result"
    },
    {
     "data": {
      "text/plain": [
       "Text(0.5, 0, 'Relative Importance')"
      ]
     },
     "execution_count": 20,
     "metadata": {},
     "output_type": "execute_result"
    },
    {
     "data": {
      "image/png": "[encoded data removed]",
      "text/plain": [
       "<Figure size 720x504 with 2 Axes>"
      ]
     },
     "metadata": {
      "needs_background": "light"
     },
     "output_type": "display_data"
    },
    {
     "data": {
      "image/png": "[encoded data removed]",
      "text/plain": [
       "<Figure size 864x864 with 1 Axes>"
      ]
     },
     "metadata": {
      "needs_background": "light"
     },
     "output_type": "display_data"
    }
   ],
   "source": [
    "# 8.4 Gradient Boosting Classifier Tuned\n",
    "\n",
    "\n",
    "gboosting_tuned = GradientBoostingClassifier(init=AdaBoostClassifier(random_state=1), random_state=1)\n",
    "\n",
    "# Grid search \n",
    "parameters = {\n",
    "    'n_estimators': [100, 150,200, 250],  # num of trees\n",
    "    'max_features': [0.7, 0.8, 0.9, 1], \n",
    "    'max_features': [0.7, 0.8, 0.9, 1] \n",
    "}\n",
    "\n",
    "acc_scorer = metrics.make_scorer(metrics.recall_score)\n",
    "grid_obj = GridSearchCV(gboosting_tuned, parameters,scoring=acc_scorer, cv=5)\n",
    "grid_obj.fit(x_train, y_train)\n",
    "\n",
    "gboosting_tuned = grid_obj.best_estimator_\n",
    "\n",
    "# Fit on best estimators\n",
    "gboosting_tuned.fit(x_train, y_train)\n",
    "\n",
    "# See results \n",
    "get_metrics_score(gboosting_tuned)\n",
    "make_confusion_matrix(gboosting_tuned, y_test)\n",
    "\n",
    "# Important Features:\n",
    "importance = gboosting_tuned.feature_importances_\n",
    "indices  = np.argsort(importance)\n",
    "feature_names = list(X.columns)\n",
    "\n",
    "plt.figure(figsize=(12,12))\n",
    "plt.title('Feature Importance')\n",
    "plt.barh(range(len(indices)), importance[indices], color='violet', align='center')\n",
    "plt.yticks(range(len(indices)), [feature_names[i] for i in indices])\n",
    "plt.yticks(range(len(indices)), [feature_names[i] for i in indices])\n",
    "plt.xlabel('Relative Importance')\n",
    "plt.show()"
   ]
  },
  {
   "cell_type": "code",
   "execution_count": 21,
   "metadata": {},
   "outputs": [
    {
     "data": {
      "text/plain": [
       "XGBClassifier(eval_metric='logloss', random_state=1)"
      ]
     },
     "execution_count": 21,
     "metadata": {},
     "output_type": "execute_result"
    },
    {
     "name": "stdout",
     "output_type": "stream",
     "text": [
      "Accuracy on training set :  0.8775211926337328\n",
      "Accuracy on test set :  0.8623040218132243\n",
      "Recall on training set :  0.4114906832298137\n",
      "Recall on test set :  0.36594202898550726\n",
      "Precision on training set :  0.8688524590163934\n",
      "Precision on test set :  0.7890625\n"
     ]
    },
    {
     "data": {
      "text/plain": [
       "[0.8775211926337328,\n",
       " 0.8623040218132243,\n",
       " 0.4114906832298137,\n",
       " 0.36594202898550726,\n",
       " 0.8688524590163934,\n",
       " 0.7890625]"
      ]
     },
     "execution_count": 21,
     "metadata": {},
     "output_type": "execute_result"
    },
    {
     "data": {
      "image/png": "[encoded data removed]",
      "text/plain": [
       "<Figure size 720x504 with 2 Axes>"
      ]
     },
     "metadata": {
      "needs_background": "light"
     },
     "output_type": "display_data"
    }
   ],
   "source": [
    "# 8.5 XGBOOST Classifier \n",
    "\n",
    "xgb_classifier = xgb.XGBClassifier(random_state=1, eval_metric='logloss')\n",
    "\n",
    "# Fit the best algorithm to the data.\n",
    "xgb_classifier.fit(x_train, y_train)\n",
    "\n",
    "get_metrics_score(xgb_classifier)\n",
    "make_confusion_matrix(xgb_classifier, y_test)\n"
   ]
  },
  {
   "cell_type": "code",
   "execution_count": 22,
   "metadata": {},
   "outputs": [
    {
     "data": {
      "text/plain": [
       "XGBClassifier(eval_metric='logloss', learning_rate=1, n_estimators=10,\n",
       "              random_state=1, scale_pos_weight=5)"
      ]
     },
     "execution_count": 22,
     "metadata": {},
     "output_type": "execute_result"
    },
    {
     "name": "stdout",
     "output_type": "stream",
     "text": [
      "Accuracy on training set :  0.7886582870505701\n",
      "Accuracy on test set :  0.754601226993865\n",
      "Recall on training set :  0.8245341614906833\n",
      "Recall on test set :  0.7717391304347826\n",
      "Precision on training set :  0.4653812445223488\n",
      "Precision on test set :  0.4176470588235294\n"
     ]
    },
    {
     "data": {
      "text/plain": [
       "[0.7886582870505701,\n",
       " 0.754601226993865,\n",
       " 0.8245341614906833,\n",
       " 0.7717391304347826,\n",
       " 0.4653812445223488,\n",
       " 0.4176470588235294]"
      ]
     },
     "execution_count": 22,
     "metadata": {},
     "output_type": "execute_result"
    },
    {
     "data": {
      "text/plain": [
       "<Figure size 864x864 with 0 Axes>"
      ]
     },
     "execution_count": 22,
     "metadata": {},
     "output_type": "execute_result"
    },
    {
     "data": {
      "text/plain": [
       "Text(0.5, 1.0, 'Feature Importance')"
      ]
     },
     "execution_count": 22,
     "metadata": {},
     "output_type": "execute_result"
    },
    {
     "data": {
      "text/plain": [
       "<BarContainer object of 22 artists>"
      ]
     },
     "execution_count": 22,
     "metadata": {},
     "output_type": "execute_result"
    },
    {
     "data": {
      "text/plain": [
       "([<matplotlib.axis.YTick at 0x7f9d1e1cc3d0>,\n",
       "  <matplotlib.axis.YTick at 0x7f9d1e1db950>,\n",
       "  <matplotlib.axis.YTick at 0x7f9d1e1e7f10>,\n",
       "  <matplotlib.axis.YTick at 0x7f9d1dbd0ed0>,\n",
       "  <matplotlib.axis.YTick at 0x7f9d1e8762d0>,\n",
       "  <matplotlib.axis.YTick at 0x7f9d1e876ad0>,\n",
       "  <matplotlib.axis.YTick at 0x7f9d1e876e90>,\n",
       "  <matplotlib.axis.YTick at 0x7f9d1e839310>,\n",
       "  <matplotlib.axis.YTick at 0x7f9d1e839950>,\n",
       "  <matplotlib.axis.YTick at 0x7f9d1e839f50>,\n",
       "  <matplotlib.axis.YTick at 0x7f9d1e8732d0>,\n",
       "  <matplotlib.axis.YTick at 0x7f9d1e876b90>,\n",
       "  <matplotlib.axis.YTick at 0x7f9d1e8735d0>,\n",
       "  <matplotlib.axis.YTick at 0x7f9d1e873750>,\n",
       "  <matplotlib.axis.YTick at 0x7f9d1e873cd0>,\n",
       "  <matplotlib.axis.YTick at 0x7f9d1e856150>,\n",
       "  <matplotlib.axis.YTick at 0x7f9d1e856790>,\n",
       "  <matplotlib.axis.YTick at 0x7f9d1e856cd0>,\n",
       "  <matplotlib.axis.YTick at 0x7f9d1e83e150>,\n",
       "  <matplotlib.axis.YTick at 0x7f9d1e83e790>,\n",
       "  <matplotlib.axis.YTick at 0x7f9d1e856490>,\n",
       "  <matplotlib.axis.YTick at 0x7f9d1e839b90>],\n",
       " [Text(0, 0, 'Gender_Male'),\n",
       "  Text(0, 1, 'MaritalStatus_Married'),\n",
       "  Text(0, 2, 'MaritalStatus_Divorced'),\n",
       "  Text(0, 3, 'NumberOfChildrenVisited'),\n",
       "  Text(0, 4, 'TypeofContact'),\n",
       "  Text(0, 5, 'OwnCar'),\n",
       "  Text(0, 6, 'Gender_Female'),\n",
       "  Text(0, 7, 'Occupation'),\n",
       "  Text(0, 8, 'NumberOfTrips'),\n",
       "  Text(0, 9, 'Designation'),\n",
       "  Text(0, 10, 'MonthlyIncome'),\n",
       "  Text(0, 11, 'PitchSatisfactionScore'),\n",
       "  Text(0, 12, 'NumberOfPersonVisited'),\n",
       "  Text(0, 13, 'DurationOfPitch'),\n",
       "  Text(0, 14, 'NumberOfFollowups'),\n",
       "  Text(0, 15, 'Age'),\n",
       "  Text(0, 16, 'MaritalStatus_Unmarried'),\n",
       "  Text(0, 17, 'PreferredPropertyStar'),\n",
       "  Text(0, 18, 'ProductPitched'),\n",
       "  Text(0, 19, 'MaritalStatus_Single'),\n",
       "  Text(0, 20, 'CityTier'),\n",
       "  Text(0, 21, 'Passport')])"
      ]
     },
     "execution_count": 22,
     "metadata": {},
     "output_type": "execute_result"
    },
    {
     "data": {
      "text/plain": [
       "([<matplotlib.axis.YTick at 0x7f9d1e1cc3d0>,\n",
       "  <matplotlib.axis.YTick at 0x7f9d1e1db950>,\n",
       "  <matplotlib.axis.YTick at 0x7f9d1e1e7f10>,\n",
       "  <matplotlib.axis.YTick at 0x7f9d1dbd0ed0>,\n",
       "  <matplotlib.axis.YTick at 0x7f9d1e8762d0>,\n",
       "  <matplotlib.axis.YTick at 0x7f9d1e876ad0>,\n",
       "  <matplotlib.axis.YTick at 0x7f9d1e876e90>,\n",
       "  <matplotlib.axis.YTick at 0x7f9d1e839310>,\n",
       "  <matplotlib.axis.YTick at 0x7f9d1e839950>,\n",
       "  <matplotlib.axis.YTick at 0x7f9d1e839f50>,\n",
       "  <matplotlib.axis.YTick at 0x7f9d1e8732d0>,\n",
       "  <matplotlib.axis.YTick at 0x7f9d1e876b90>,\n",
       "  <matplotlib.axis.YTick at 0x7f9d1e8735d0>,\n",
       "  <matplotlib.axis.YTick at 0x7f9d1e873750>,\n",
       "  <matplotlib.axis.YTick at 0x7f9d1e873cd0>,\n",
       "  <matplotlib.axis.YTick at 0x7f9d1e856150>,\n",
       "  <matplotlib.axis.YTick at 0x7f9d1e856790>,\n",
       "  <matplotlib.axis.YTick at 0x7f9d1e856cd0>,\n",
       "  <matplotlib.axis.YTick at 0x7f9d1e83e150>,\n",
       "  <matplotlib.axis.YTick at 0x7f9d1e83e790>,\n",
       "  <matplotlib.axis.YTick at 0x7f9d1e856490>,\n",
       "  <matplotlib.axis.YTick at 0x7f9d1e839b90>],\n",
       " [Text(0, 0, 'Gender_Male'),\n",
       "  Text(0, 1, 'MaritalStatus_Married'),\n",
       "  Text(0, 2, 'MaritalStatus_Divorced'),\n",
       "  Text(0, 3, 'NumberOfChildrenVisited'),\n",
       "  Text(0, 4, 'TypeofContact'),\n",
       "  Text(0, 5, 'OwnCar'),\n",
       "  Text(0, 6, 'Gender_Female'),\n",
       "  Text(0, 7, 'Occupation'),\n",
       "  Text(0, 8, 'NumberOfTrips'),\n",
       "  Text(0, 9, 'Designation'),\n",
       "  Text(0, 10, 'MonthlyIncome'),\n",
       "  Text(0, 11, 'PitchSatisfactionScore'),\n",
       "  Text(0, 12, 'NumberOfPersonVisited'),\n",
       "  Text(0, 13, 'DurationOfPitch'),\n",
       "  Text(0, 14, 'NumberOfFollowups'),\n",
       "  Text(0, 15, 'Age'),\n",
       "  Text(0, 16, 'MaritalStatus_Unmarried'),\n",
       "  Text(0, 17, 'PreferredPropertyStar'),\n",
       "  Text(0, 18, 'ProductPitched'),\n",
       "  Text(0, 19, 'MaritalStatus_Single'),\n",
       "  Text(0, 20, 'CityTier'),\n",
       "  Text(0, 21, 'Passport')])"
      ]
     },
     "execution_count": 22,
     "metadata": {},
     "output_type": "execute_result"
    },
    {
     "data": {
      "text/plain": [
       "Text(0.5, 0, 'Relative Importance')"
      ]
     },
     "execution_count": 22,
     "metadata": {},
     "output_type": "execute_result"
    },
    {
     "data": {
      "image/png": "[encoded data removed]",
      "text/plain": [
       "<Figure size 720x504 with 2 Axes>"
      ]
     },
     "metadata": {
      "needs_background": "light"
     },
     "output_type": "display_data"
    },
    {
     "data": {
      "image/png": "[encoded data removed]",
      "text/plain": [
       "<Figure size 864x864 with 1 Axes>"
      ]
     },
     "metadata": {
      "needs_background": "light"
     },
     "output_type": "display_data"
    }
   ],
   "source": [
    "# 8.6 XGBOOST Classifier TUNED\n",
    "\n",
    "xgb_tuned = xgb.XGBClassifier(random_state=1, eval_metric='logloss')\n",
    "\n",
    "\n",
    "parameters = {\n",
    "    \"n_estimators\": [10,50,100],\n",
    "    \"scale_pos_weight\":[1,2,5],\n",
    "    \"subsample\":[0.5,1],\n",
    "    \"learning_rate\":[0.01,0.1,1],\n",
    "    \"gamma\":[0,1,3],\n",
    "}\n",
    "\n",
    "# Type of scoring used to compare parameter combinations\n",
    "acc_scorer = metrics.make_scorer(metrics.recall_score)\n",
    "\n",
    "# Run the grid search\n",
    "grid_obj = GridSearchCV(xgb_tuned, parameters,scoring=acc_scorer,cv=5)\n",
    "grid_obj = grid_obj.fit(x_train, y_train)\n",
    "\n",
    "# Set the clf to the best combination of parameters\n",
    "xgb_tuned = grid_obj.best_estimator_\n",
    "\n",
    "# Fit the best algorithm to the data.\n",
    "xgb_tuned.fit(x_train, y_train)\n",
    "\n",
    "get_metrics_score(xgb_tuned)\n",
    "make_confusion_matrix(xgb_tuned, y_test)\n",
    "\n",
    "\n",
    "# Important Features:\n",
    "importance = xgb_tuned.feature_importances_\n",
    "indices  = np.argsort(importance)\n",
    "feature_names = list(X.columns)\n",
    "\n",
    "plt.figure(figsize=(12,12))\n",
    "plt.title('Feature Importance')\n",
    "plt.barh(range(len(indices)), importance[indices], color='violet', align='center')\n",
    "plt.yticks(range(len(indices)), [feature_names[i] for i in indices])\n",
    "plt.yticks(range(len(indices)), [feature_names[i] for i in indices])\n",
    "plt.xlabel('Relative Importance')\n",
    "plt.show()"
   ]
  },
  {
   "cell_type": "markdown",
   "metadata": {},
   "source": [
    "## 9. Actionable Insights & Recommendations\n",
    "\n"
   ]
  },
  {
   "cell_type": "code",
   "execution_count": 24,
   "metadata": {},
   "outputs": [
    {
     "data": {
      "text/html": [
       "<div>\n",
       "<style scoped>\n",
       "    .dataframe tbody tr th:only-of-type {\n",
       "        vertical-align: middle;\n",
       "    }\n",
       "\n",
       "    .dataframe tbody tr th {\n",
       "        vertical-align: top;\n",
       "    }\n",
       "\n",
       "    .dataframe thead th {\n",
       "        text-align: right;\n",
       "    }\n",
       "</style>\n",
       "<table border=\"1\" class=\"dataframe\">\n",
       "  <thead>\n",
       "    <tr style=\"text-align: right;\">\n",
       "      <th></th>\n",
       "      <th>Model</th>\n",
       "      <th>Train_Accuracy</th>\n",
       "      <th>Test_Accuracy</th>\n",
       "      <th>Train_Recall</th>\n",
       "      <th>Test_Recall</th>\n",
       "      <th>Train_Precision</th>\n",
       "      <th>Test_Precision</th>\n",
       "    </tr>\n",
       "  </thead>\n",
       "  <tbody>\n",
       "    <tr>\n",
       "      <th>6</th>\n",
       "      <td>adaboost</td>\n",
       "      <td>0.85</td>\n",
       "      <td>0.85</td>\n",
       "      <td>0.31</td>\n",
       "      <td>0.33</td>\n",
       "      <td>0.70</td>\n",
       "      <td>0.73</td>\n",
       "    </tr>\n",
       "    <tr>\n",
       "      <th>5</th>\n",
       "      <td>Decision_Tree_estimator</td>\n",
       "      <td>0.82</td>\n",
       "      <td>0.84</td>\n",
       "      <td>0.34</td>\n",
       "      <td>0.37</td>\n",
       "      <td>0.54</td>\n",
       "      <td>0.63</td>\n",
       "    </tr>\n",
       "    <tr>\n",
       "      <th>10</th>\n",
       "      <td>xgb_classifier</td>\n",
       "      <td>0.88</td>\n",
       "      <td>0.86</td>\n",
       "      <td>0.41</td>\n",
       "      <td>0.37</td>\n",
       "      <td>0.87</td>\n",
       "      <td>0.79</td>\n",
       "    </tr>\n",
       "    <tr>\n",
       "      <th>8</th>\n",
       "      <td>gboosting</td>\n",
       "      <td>0.89</td>\n",
       "      <td>0.87</td>\n",
       "      <td>0.47</td>\n",
       "      <td>0.42</td>\n",
       "      <td>0.88</td>\n",
       "      <td>0.79</td>\n",
       "    </tr>\n",
       "    <tr>\n",
       "      <th>9</th>\n",
       "      <td>gboosting_tuned</td>\n",
       "      <td>0.92</td>\n",
       "      <td>0.87</td>\n",
       "      <td>0.61</td>\n",
       "      <td>0.45</td>\n",
       "      <td>0.92</td>\n",
       "      <td>0.77</td>\n",
       "    </tr>\n",
       "    <tr>\n",
       "      <th>2</th>\n",
       "      <td>rf_estimator</td>\n",
       "      <td>1.00</td>\n",
       "      <td>0.91</td>\n",
       "      <td>1.00</td>\n",
       "      <td>0.57</td>\n",
       "      <td>1.00</td>\n",
       "      <td>0.92</td>\n",
       "    </tr>\n",
       "    <tr>\n",
       "      <th>7</th>\n",
       "      <td>adaboost_tuned</td>\n",
       "      <td>1.00</td>\n",
       "      <td>0.88</td>\n",
       "      <td>1.00</td>\n",
       "      <td>0.58</td>\n",
       "      <td>1.00</td>\n",
       "      <td>0.73</td>\n",
       "    </tr>\n",
       "    <tr>\n",
       "      <th>3</th>\n",
       "      <td>rf_estimator_tuned</td>\n",
       "      <td>0.96</td>\n",
       "      <td>0.89</td>\n",
       "      <td>0.87</td>\n",
       "      <td>0.59</td>\n",
       "      <td>0.90</td>\n",
       "      <td>0.77</td>\n",
       "    </tr>\n",
       "    <tr>\n",
       "      <th>0</th>\n",
       "      <td>baggining_estimator</td>\n",
       "      <td>1.00</td>\n",
       "      <td>0.91</td>\n",
       "      <td>0.98</td>\n",
       "      <td>0.62</td>\n",
       "      <td>1.00</td>\n",
       "      <td>0.88</td>\n",
       "    </tr>\n",
       "    <tr>\n",
       "      <th>1</th>\n",
       "      <td>baggining_estimator_tuned</td>\n",
       "      <td>1.00</td>\n",
       "      <td>0.92</td>\n",
       "      <td>1.00</td>\n",
       "      <td>0.63</td>\n",
       "      <td>1.00</td>\n",
       "      <td>0.93</td>\n",
       "    </tr>\n",
       "    <tr>\n",
       "      <th>4</th>\n",
       "      <td>dt_estimator</td>\n",
       "      <td>1.00</td>\n",
       "      <td>0.88</td>\n",
       "      <td>1.00</td>\n",
       "      <td>0.63</td>\n",
       "      <td>1.00</td>\n",
       "      <td>0.68</td>\n",
       "    </tr>\n",
       "    <tr>\n",
       "      <th>11</th>\n",
       "      <td>xgb_tuned</td>\n",
       "      <td>0.79</td>\n",
       "      <td>0.75</td>\n",
       "      <td>0.82</td>\n",
       "      <td>0.77</td>\n",
       "      <td>0.47</td>\n",
       "      <td>0.42</td>\n",
       "    </tr>\n",
       "  </tbody>\n",
       "</table>\n",
       "</div>"
      ],
      "text/plain": [
       "                        Model  Train_Accuracy  Test_Accuracy  Train_Recall  \\\n",
       "6                    adaboost            0.85           0.85          0.31   \n",
       "5     Decision_Tree_estimator            0.82           0.84          0.34   \n",
       "10             xgb_classifier            0.88           0.86          0.41   \n",
       "8                   gboosting            0.89           0.87          0.47   \n",
       "9             gboosting_tuned            0.92           0.87          0.61   \n",
       "2                rf_estimator            1.00           0.91          1.00   \n",
       "7              adaboost_tuned            1.00           0.88          1.00   \n",
       "3          rf_estimator_tuned            0.96           0.89          0.87   \n",
       "0         baggining_estimator            1.00           0.91          0.98   \n",
       "1   baggining_estimator_tuned            1.00           0.92          1.00   \n",
       "4                dt_estimator            1.00           0.88          1.00   \n",
       "11                  xgb_tuned            0.79           0.75          0.82   \n",
       "\n",
       "    Test_Recall  Train_Precision  Test_Precision  \n",
       "6          0.33             0.70            0.73  \n",
       "5          0.37             0.54            0.63  \n",
       "10         0.37             0.87            0.79  \n",
       "8          0.42             0.88            0.79  \n",
       "9          0.45             0.92            0.77  \n",
       "2          0.57             1.00            0.92  \n",
       "7          0.58             1.00            0.73  \n",
       "3          0.59             0.90            0.77  \n",
       "0          0.62             1.00            0.88  \n",
       "1          0.63             1.00            0.93  \n",
       "4          0.63             1.00            0.68  \n",
       "11         0.77             0.47            0.42  "
      ]
     },
     "execution_count": 24,
     "metadata": {},
     "output_type": "execute_result"
    }
   ],
   "source": [
    "\n",
    "\n",
    "all_models = [baggining_estimator, baggining_estimator_tuned,\n",
    "              rf_estimator, rf_estimator_tuned,\n",
    "              dt_estimator, Decision_Tree_estimator,\n",
    "              adaboost, adaboost_tuned, \n",
    "              gboosting, gboosting_tuned,\n",
    "              xgb_classifier, xgb_tuned]\n",
    "\n",
    "# defining empty lists to add train and test results\n",
    "acc_train = []\n",
    "acc_test = []\n",
    "recall_train = []\n",
    "recall_test = []\n",
    "precision_train = []\n",
    "precision_test = []\n",
    "\n",
    "# looping through all the models to get the accuracy, precall and precision scores\n",
    "for model in all_models:\n",
    "    j = get_metrics_score(model,False)\n",
    "    acc_train.append(np.round(j[0],2))\n",
    "    acc_test.append(np.round(j[1],2))\n",
    "    recall_train.append(np.round(j[2],2))\n",
    "    recall_test.append(np.round(j[3],2))\n",
    "    precision_train.append(np.round(j[4],2))\n",
    "    precision_test.append(np.round(j[5],2))\n",
    "\n",
    "    \n",
    "# Put everything in a dataframe\n",
    "comprison = pd.DataFrame(\n",
    "{\n",
    "    'Model':[\"baggining_estimator\", \"baggining_estimator_tuned\",\n",
    "              \"rf_estimator\", \"rf_estimator_tuned\",\n",
    "              \"dt_estimator\", \"Decision_Tree_estimator\",\n",
    "              \"adaboost\", \"adaboost_tuned\", \n",
    "              \"gboosting\", \"gboosting_tuned\",\n",
    "              \"xgb_classifier\", \"xgb_tuned\"],\n",
    "    'Train_Accuracy': acc_train,'Test_Accuracy': acc_test,\n",
    "                                          'Train_Recall':recall_train,'Test_Recall':recall_test,\n",
    "                                          'Train_Precision':precision_train,'Test_Precision':precision_test})\n",
    "\n",
    "\n",
    "coparison_final = comprison.sort_values([\"Test_Recall\"], ascending = True)\n",
    "coparison_final\n"
   ]
  },
  {
   "cell_type": "markdown",
   "metadata": {},
   "source": [
    " ### Insights:\n",
    " \n",
    " - Test accuracy metric seems to perform well for all models, ranging from 0.75 to 0.92. The high level of accuracy ,however, is not a good measure of identifying cutsomers due to the severe class imbalance in the target variable prod_taken. \n",
    "  \n",
    "- Recall is a good measure here because Visit with us company. Recall is a good measure here, because the marketing cost of identifying customers who might NOT take the product is high.\n",
    "\n",
    "\n",
    "- The recall metric for the training set overfits the data for Random Forest, Adaboost Tuned, Bagging and Decision Tree Tuned models. At the same time, it performs poorly on both the training and testing datasets for Adaboost, Decision Tree, xgboost, and Gradient Boost models. \n",
    "\n",
    "\n",
    "- The Recall metric for Tuned xgboost model performs well for both recall in the training and the testing dataset, with 0.82 and 0.77 respectivley. The train recall does not overfit a lot and the test recall is high. \n",
    "\n",
    "\n",
    "- The analysis suggests that Visit with us travel agency can use xgb_tuned model to predict whether a customer will take the travel package. \n",
    "\n",
    "\n",
    "- The company should take into consideration the following factors when determining advertising costs and customer segmentation: customers who own a passport, designation, age and monthly income. \n",
    "\n",
    "\n",
    "- The compnay should also consider trying additional models tuning analysis or add new models such as logistic regression, or neural networks for future insights. "
   ]
  },
  {
   "cell_type": "code",
   "execution_count": null,
   "metadata": {},
   "outputs": [],
   "source": []
  },
  {
   "cell_type": "code",
   "execution_count": null,
   "metadata": {},
   "outputs": [],
   "source": []
  }
 ],
 "metadata": {
  "kernelspec": {
   "display_name": "Python 3",
   "language": "python",
   "name": "python3"
  },
  "language_info": {
   "codemirror_mode": {
    "name": "ipython",
    "version": 3
   },
   "file_extension": ".py",
   "mimetype": "text/x-python",
   "name": "python",
   "nbconvert_exporter": "python",
   "pygments_lexer": "ipython3",
   "version": "3.7.4"
  }
 },
 "nbformat": 4,
 "nbformat_minor": 2
}
